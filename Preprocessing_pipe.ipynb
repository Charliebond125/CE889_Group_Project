{
  "cells": [
    {
      "cell_type": "markdown",
      "metadata": {
        "id": "view-in-github",
        "colab_type": "text"
      },
      "source": [
        "<a href=\"https://colab.research.google.com/github/Charliebond125/CE889_Group_Project/blob/main/Preprocessing_pipe.ipynb\" target=\"_parent\"><img src=\"https://colab.research.google.com/assets/colab-badge.svg\" alt=\"Open In Colab\"/></a>"
      ]
    },
    {
      "cell_type": "code",
      "execution_count": null,
      "metadata": {
        "id": "GmrSa3mv3YI_"
      },
      "outputs": [],
      "source": [
        "import numpy as np\n",
        "import pandas as pd\n",
        "import matplotlib.pyplot as plt\n",
        "\n",
        "%matplotlib inline\n",
        "\n",
        "import seaborn as sns\n",
        "import warnings\n",
        "\n",
        "from math import sqrt\n",
        "\n",
        "np.random.seed(42)\n",
        "\n",
        "%matplotlib inline\n",
        "\n",
        "warnings.filterwarnings('ignore')\n",
        "\n",
        "from sklearn.preprocessing import OneHotEncoder\n",
        "from sklearn.compose import make_column_transformer"
      ]
    },
    {
      "cell_type": "code",
      "source": [
        "from google.colab import drive\n",
        "drive.mount('/content/drive')"
      ],
      "metadata": {
        "colab": {
          "base_uri": "https://localhost:8080/"
        },
        "id": "sriFyVrR3ZPL",
        "outputId": "8b423b29-f30f-479a-b685-d7d4aa2e613b"
      },
      "execution_count": null,
      "outputs": [
        {
          "output_type": "stream",
          "name": "stdout",
          "text": [
            "Mounted at /content/drive\n"
          ]
        }
      ]
    },
    {
      "cell_type": "code",
      "execution_count": null,
      "metadata": {
        "id": "cTF74WBm3YJB"
      },
      "outputs": [],
      "source": [
        "def date_time(df):\n",
        "    df['Date'] = pd.to_datetime(df['Date'], infer_datetime_format=True)\n",
        "    df[\"Month\"] = df[\"Date\"].dt.month\n",
        "    df[\"Quarter\"] = df[\"Date\"].dt.quarter\n",
        "    df[\"Year\"] = df[\"Date\"].dt.year\n",
        "    df[\"Day\"] = df[\"Date\"].dt.day\n",
        "    df[\"Week\"] = df[\"Date\"].dt.week\n",
        "    \n",
        "    df[\"Season\"] = (\n",
        "        np.where(df[\"Month\"].isin([3,4,5]),\n",
        "                \"Spring\", np.where(df[\"Month\"].isin([6,7,8]),\n",
        "                \"Summer\",np.where(df[\"Month\"].isin([9,10,11]),\n",
        "                    \"Autumn\",np.where(df[\"Month\"].isin([12,1,2]),\n",
        "                        \"Winter\",\"None\"))))      \n",
        "                        )\n",
        "    return df"
      ]
    },
    {
      "cell_type": "code",
      "execution_count": null,
      "metadata": {
        "id": "lynd8daW3YJC"
      },
      "outputs": [],
      "source": [
        "def to_category(df):\n",
        "    cols = df.select_dtypes(include='object').columns\n",
        "    for col in cols:\n",
        "        ratio = len(df[col].value_counts()) / len(df)\n",
        "        if ratio < 0.05:\n",
        "            df[col] = df[col].astype('category')\n",
        "    return df"
      ]
    },
    {
      "cell_type": "code",
      "execution_count": null,
      "metadata": {
        "id": "D4ve5pUH3YJC"
      },
      "outputs": [],
      "source": [
        "def one_hot(df):\n",
        "    return pd.get_dummies(df)"
      ]
    },
    {
      "cell_type": "code",
      "execution_count": null,
      "metadata": {
        "id": "at-tE7iZ3YJC"
      },
      "outputs": [],
      "source": [
        "def calculate_outlier(df, column): ## function for calculating outliers\n",
        "    Q3 = df[column].quantile(0.75)\n",
        "    Q1 = df[column].quantile(0.25)\n",
        "    IQR = Q3 - Q1\n",
        "    lower = Q1 - 1.5 * IQR\n",
        "    upper = Q3 + 1.5 * IQR\n",
        "    percent_outliers = round(((df[df[column] > upper].shape[0]) + (df[df[column] < lower].shape[0])) / df.shape[0] * 100, 2)\n",
        "    \n",
        "    return lower, upper, percent_outliers"
      ]
    },
    {
      "cell_type": "code",
      "execution_count": null,
      "metadata": {
        "id": "4Pjzww4r3YJC"
      },
      "outputs": [],
      "source": [
        "# process train and test\n",
        "def process_train_valid(data, isTest = False):\n",
        "    # label encode some features\n",
        "    mappings = {'0':0, 'a':1, 'b':2, 'c':3, 'd':4}\n",
        "    data.StoreType.replace(mappings, inplace=True)\n",
        "    data.Assortment.replace(mappings, inplace=True)\n",
        "    data.StateHoliday.replace(mappings, inplace=True)\n",
        "    \n",
        "    # extract some features from date column  \n",
        "    data['Month'] = data.Date.dt.month\n",
        "    data['Year'] = data.Date.dt.year\n",
        "    data['Day'] = data.Date.dt.day\n",
        "    data['WeekOfYear'] = data.Date.dt.weekofyear\n",
        "    \n",
        "    # calculate competiter open time in months\n",
        "    data['CompetitionOpen'] = 12 * (data.Year - data.CompetitionOpenSinceYear) + \\\n",
        "        (data.Month - data.CompetitionOpenSinceMonth)\n",
        "    data['CompetitionOpen'] = data['CompetitionOpen'].apply(lambda x: x if x > 0 else 0)\n",
        "    \n",
        "    # calculate promo2 open time in months\n",
        "    data['PromoOpen'] = 12 * (data.Year - data.Promo2SinceYear) + \\\n",
        "        (data.WeekOfYear - data.Promo2SinceWeek) / 4.0\n",
        "    data['PromoOpen'] = data['PromoOpen'].apply(lambda x: x if x > 0 else 0)\n",
        "                                                 \n",
        "    # Indicate whether the month is in promo interval\n",
        "    month2str = {1:'Jan', 2:'Feb', 3:'Mar', 4:'Apr', 5:'May', 6:'Jun', \\\n",
        "             7:'Jul', 8:'Aug', 9:'Sept', 10:'Oct', 11:'Nov', 12:'Dec'}\n",
        "    data['month_str'] = data.Month.map(month2str)\n",
        "\n",
        "    def check(row):\n",
        "        if isinstance(row['PromoInterval'],str) and row['month_str'] in row['PromoInterval']:\n",
        "            return 1\n",
        "        else:\n",
        "            return 0\n",
        "        \n",
        "    data['IsPromoMonth'] =  data.apply(lambda row: check(row),axis=1)    \n",
        "    \n",
        "    # select the features we need\n",
        "    features = ['Store', 'DayOfWeek', 'Promo', 'StateHoliday', 'SchoolHoliday',\n",
        "       'StoreType', 'Assortment', 'CompetitionDistance',\n",
        "       'CompetitionOpenSinceMonth', 'CompetitionOpenSinceYear', 'Promo2',\n",
        "       'Promo2SinceWeek', 'Promo2SinceYear', 'Year', 'Month', 'Day',\n",
        "       'WeekOfYear', 'CompetitionOpen', 'PromoOpen', 'IsPromoMonth']  \n",
        "    if not isTest:\n",
        "        features.append('Sales')\n",
        "        \n",
        "    data = data[features]\n",
        "    return data\n"
      ]
    },
    {
      "cell_type": "code",
      "source": [
        "def add_missing_columns( d, columns ):\n",
        "        missing_cols = set( columns ) - set( d.columns )\n",
        "        for c in missing_cols:\n",
        "            d[c] = 0\n",
        "\n",
        "def fix_columns( d, columns ):  \n",
        "\n",
        "    add_missing_dummy_columns( d, columns )\n",
        "\n",
        "    # make sure we have all the columns we need\n",
        "    assert( set( columns ) - set( d.columns ) == set())\n",
        "\n",
        "    extra_cols = set( d.columns ) - set( columns )\n",
        "    if extra_cols: print (\"extra columns:\", extra_cols)\n",
        "\n",
        "    d = d[ columns ]\n",
        "    return d"
      ],
      "metadata": {
        "id": "wTytERCtG7ky"
      },
      "execution_count": null,
      "outputs": []
    },
    {
      "cell_type": "code",
      "execution_count": null,
      "metadata": {
        "id": "SNofJXqJ3YJD"
      },
      "outputs": [],
      "source": [
        "# Import data if using on local machine\n",
        "\n",
        "df_train = pd.read_csv(r\"C:\\Users\\charl\\OneDrive\\Desktop\\rossmann-store-sales\\train.csv\")\n",
        "df_test = pd.read_csv(r\"C:\\Users\\charl\\OneDrive\\Desktop\\rossmann-store-sales\\test.csv\")\n",
        "df_store = pd.read_csv(r\"C:\\Users\\charl\\OneDrive\\Desktop\\rossmann-store-sales\\store.csv\")"
      ]
    },
    {
      "cell_type": "code",
      "source": [
        "df_train = pd.read_csv(\"/content/drive/MyDrive/train.csv\")\n",
        "df_test = pd.read_csv(\"/content/drive/MyDrive/test.csv\")\n",
        "df_store = pd.read_csv(\"/content/drive/MyDrive/store.csv\")"
      ],
      "metadata": {
        "id": "lPd4t-8C3wpL"
      },
      "execution_count": null,
      "outputs": []
    },
    {
      "cell_type": "code",
      "execution_count": null,
      "metadata": {
        "colab": {
          "base_uri": "https://localhost:8080/",
          "height": 206
        },
        "id": "QmCF6J5h3YJD",
        "outputId": "5def04b3-6739-4ffc-abf9-cdbdf0d94927"
      },
      "outputs": [
        {
          "output_type": "execute_result",
          "data": {
            "text/plain": [
              "   Id  Store  DayOfWeek        Date  Open  Promo StateHoliday  SchoolHoliday\n",
              "0   1      1          4  2015-09-17   1.0      1            0              0\n",
              "1   2      3          4  2015-09-17   1.0      1            0              0\n",
              "2   3      7          4  2015-09-17   1.0      1            0              0\n",
              "3   4      8          4  2015-09-17   1.0      1            0              0\n",
              "4   5      9          4  2015-09-17   1.0      1            0              0"
            ],
            "text/html": [
              "\n",
              "  <div id=\"df-d41e7271-a151-4598-8575-59e96768794c\">\n",
              "    <div class=\"colab-df-container\">\n",
              "      <div>\n",
              "<style scoped>\n",
              "    .dataframe tbody tr th:only-of-type {\n",
              "        vertical-align: middle;\n",
              "    }\n",
              "\n",
              "    .dataframe tbody tr th {\n",
              "        vertical-align: top;\n",
              "    }\n",
              "\n",
              "    .dataframe thead th {\n",
              "        text-align: right;\n",
              "    }\n",
              "</style>\n",
              "<table border=\"1\" class=\"dataframe\">\n",
              "  <thead>\n",
              "    <tr style=\"text-align: right;\">\n",
              "      <th></th>\n",
              "      <th>Id</th>\n",
              "      <th>Store</th>\n",
              "      <th>DayOfWeek</th>\n",
              "      <th>Date</th>\n",
              "      <th>Open</th>\n",
              "      <th>Promo</th>\n",
              "      <th>StateHoliday</th>\n",
              "      <th>SchoolHoliday</th>\n",
              "    </tr>\n",
              "  </thead>\n",
              "  <tbody>\n",
              "    <tr>\n",
              "      <th>0</th>\n",
              "      <td>1</td>\n",
              "      <td>1</td>\n",
              "      <td>4</td>\n",
              "      <td>2015-09-17</td>\n",
              "      <td>1.0</td>\n",
              "      <td>1</td>\n",
              "      <td>0</td>\n",
              "      <td>0</td>\n",
              "    </tr>\n",
              "    <tr>\n",
              "      <th>1</th>\n",
              "      <td>2</td>\n",
              "      <td>3</td>\n",
              "      <td>4</td>\n",
              "      <td>2015-09-17</td>\n",
              "      <td>1.0</td>\n",
              "      <td>1</td>\n",
              "      <td>0</td>\n",
              "      <td>0</td>\n",
              "    </tr>\n",
              "    <tr>\n",
              "      <th>2</th>\n",
              "      <td>3</td>\n",
              "      <td>7</td>\n",
              "      <td>4</td>\n",
              "      <td>2015-09-17</td>\n",
              "      <td>1.0</td>\n",
              "      <td>1</td>\n",
              "      <td>0</td>\n",
              "      <td>0</td>\n",
              "    </tr>\n",
              "    <tr>\n",
              "      <th>3</th>\n",
              "      <td>4</td>\n",
              "      <td>8</td>\n",
              "      <td>4</td>\n",
              "      <td>2015-09-17</td>\n",
              "      <td>1.0</td>\n",
              "      <td>1</td>\n",
              "      <td>0</td>\n",
              "      <td>0</td>\n",
              "    </tr>\n",
              "    <tr>\n",
              "      <th>4</th>\n",
              "      <td>5</td>\n",
              "      <td>9</td>\n",
              "      <td>4</td>\n",
              "      <td>2015-09-17</td>\n",
              "      <td>1.0</td>\n",
              "      <td>1</td>\n",
              "      <td>0</td>\n",
              "      <td>0</td>\n",
              "    </tr>\n",
              "  </tbody>\n",
              "</table>\n",
              "</div>\n",
              "      <button class=\"colab-df-convert\" onclick=\"convertToInteractive('df-d41e7271-a151-4598-8575-59e96768794c')\"\n",
              "              title=\"Convert this dataframe to an interactive table.\"\n",
              "              style=\"display:none;\">\n",
              "        \n",
              "  <svg xmlns=\"http://www.w3.org/2000/svg\" height=\"24px\"viewBox=\"0 0 24 24\"\n",
              "       width=\"24px\">\n",
              "    <path d=\"M0 0h24v24H0V0z\" fill=\"none\"/>\n",
              "    <path d=\"M18.56 5.44l.94 2.06.94-2.06 2.06-.94-2.06-.94-.94-2.06-.94 2.06-2.06.94zm-11 1L8.5 8.5l.94-2.06 2.06-.94-2.06-.94L8.5 2.5l-.94 2.06-2.06.94zm10 10l.94 2.06.94-2.06 2.06-.94-2.06-.94-.94-2.06-.94 2.06-2.06.94z\"/><path d=\"M17.41 7.96l-1.37-1.37c-.4-.4-.92-.59-1.43-.59-.52 0-1.04.2-1.43.59L10.3 9.45l-7.72 7.72c-.78.78-.78 2.05 0 2.83L4 21.41c.39.39.9.59 1.41.59.51 0 1.02-.2 1.41-.59l7.78-7.78 2.81-2.81c.8-.78.8-2.07 0-2.86zM5.41 20L4 18.59l7.72-7.72 1.47 1.35L5.41 20z\"/>\n",
              "  </svg>\n",
              "      </button>\n",
              "      \n",
              "  <style>\n",
              "    .colab-df-container {\n",
              "      display:flex;\n",
              "      flex-wrap:wrap;\n",
              "      gap: 12px;\n",
              "    }\n",
              "\n",
              "    .colab-df-convert {\n",
              "      background-color: #E8F0FE;\n",
              "      border: none;\n",
              "      border-radius: 50%;\n",
              "      cursor: pointer;\n",
              "      display: none;\n",
              "      fill: #1967D2;\n",
              "      height: 32px;\n",
              "      padding: 0 0 0 0;\n",
              "      width: 32px;\n",
              "    }\n",
              "\n",
              "    .colab-df-convert:hover {\n",
              "      background-color: #E2EBFA;\n",
              "      box-shadow: 0px 1px 2px rgba(60, 64, 67, 0.3), 0px 1px 3px 1px rgba(60, 64, 67, 0.15);\n",
              "      fill: #174EA6;\n",
              "    }\n",
              "\n",
              "    [theme=dark] .colab-df-convert {\n",
              "      background-color: #3B4455;\n",
              "      fill: #D2E3FC;\n",
              "    }\n",
              "\n",
              "    [theme=dark] .colab-df-convert:hover {\n",
              "      background-color: #434B5C;\n",
              "      box-shadow: 0px 1px 3px 1px rgba(0, 0, 0, 0.15);\n",
              "      filter: drop-shadow(0px 1px 2px rgba(0, 0, 0, 0.3));\n",
              "      fill: #FFFFFF;\n",
              "    }\n",
              "  </style>\n",
              "\n",
              "      <script>\n",
              "        const buttonEl =\n",
              "          document.querySelector('#df-d41e7271-a151-4598-8575-59e96768794c button.colab-df-convert');\n",
              "        buttonEl.style.display =\n",
              "          google.colab.kernel.accessAllowed ? 'block' : 'none';\n",
              "\n",
              "        async function convertToInteractive(key) {\n",
              "          const element = document.querySelector('#df-d41e7271-a151-4598-8575-59e96768794c');\n",
              "          const dataTable =\n",
              "            await google.colab.kernel.invokeFunction('convertToInteractive',\n",
              "                                                     [key], {});\n",
              "          if (!dataTable) return;\n",
              "\n",
              "          const docLinkHtml = 'Like what you see? Visit the ' +\n",
              "            '<a target=\"_blank\" href=https://colab.research.google.com/notebooks/data_table.ipynb>data table notebook</a>'\n",
              "            + ' to learn more about interactive tables.';\n",
              "          element.innerHTML = '';\n",
              "          dataTable['output_type'] = 'display_data';\n",
              "          await google.colab.output.renderOutput(dataTable, element);\n",
              "          const docLink = document.createElement('div');\n",
              "          docLink.innerHTML = docLinkHtml;\n",
              "          element.appendChild(docLink);\n",
              "        }\n",
              "      </script>\n",
              "    </div>\n",
              "  </div>\n",
              "  "
            ]
          },
          "metadata": {},
          "execution_count": 9
        }
      ],
      "source": [
        "df_test.head()"
      ]
    },
    {
      "cell_type": "code",
      "execution_count": null,
      "metadata": {
        "id": "Pt4I36SA3YJD"
      },
      "outputs": [],
      "source": [
        "df_store.fillna(0, inplace=True)"
      ]
    },
    {
      "cell_type": "code",
      "execution_count": null,
      "metadata": {
        "id": "py8I8ZYY3YJD"
      },
      "outputs": [],
      "source": [
        "df_test.fillna(0, inplace=True)"
      ]
    },
    {
      "cell_type": "code",
      "execution_count": null,
      "metadata": {
        "id": "JTsn6amg3YJD"
      },
      "outputs": [],
      "source": [
        "train = pd.merge(df_train, df_store, on='Store')\n",
        "test = pd.merge(df_test, df_store, on='Store')\n",
        "\n",
        "# split the last 6 weeks data as hold-out set (idea from Gert https://www.kaggle.com/c/rossmann-store-sales/discussion/18024)\n",
        "train = train.sort_values(['Date'],ascending = False)\n",
        "train_total = train.copy()\n",
        "\n",
        "split_index = 6*7*1115\n",
        "valid = train[:split_index] \n",
        "train = train[split_index:]\n",
        "\n",
        "# only use data of Sales>0 and Open is 1\n",
        "valid = valid[(valid.Open != 0)&(valid.Sales >0)]\n",
        "train = train[(train.Open != 0)&(train.Sales >0)]\n",
        "train_total = train_total[(train_total.Open != 0)&(train_total.Sales >0)]"
      ]
    },
    {
      "cell_type": "code",
      "execution_count": null,
      "metadata": {
        "colab": {
          "base_uri": "https://localhost:8080/",
          "height": 200
        },
        "id": "pwHFRs_S3YJD",
        "outputId": "9e795bb6-e594-4088-a78c-05ad315f5bb2"
      },
      "outputs": [
        {
          "output_type": "stream",
          "name": "stdout",
          "text": [
            "lower band = -400.0\n",
            "upper band = 13616.0\n",
            "percentage of sales that are outliers = 3.64%\n",
            "Removing identified outliers for sales...\n",
            "Completed: See table for confirmation. \n"
          ]
        },
        {
          "output_type": "execute_result",
          "data": {
            "text/plain": [
              "Empty DataFrame\n",
              "Columns: [Store, DayOfWeek, Date, Sales, Customers, Open, Promo, StateHoliday, SchoolHoliday, StoreType, Assortment, CompetitionDistance, CompetitionOpenSinceMonth, CompetitionOpenSinceYear, Promo2, Promo2SinceWeek, Promo2SinceYear, PromoInterval]\n",
              "Index: []"
            ],
            "text/html": [
              "\n",
              "  <div id=\"df-90d58592-46d2-4482-8c0c-0598bd8554fa\">\n",
              "    <div class=\"colab-df-container\">\n",
              "      <div>\n",
              "<style scoped>\n",
              "    .dataframe tbody tr th:only-of-type {\n",
              "        vertical-align: middle;\n",
              "    }\n",
              "\n",
              "    .dataframe tbody tr th {\n",
              "        vertical-align: top;\n",
              "    }\n",
              "\n",
              "    .dataframe thead th {\n",
              "        text-align: right;\n",
              "    }\n",
              "</style>\n",
              "<table border=\"1\" class=\"dataframe\">\n",
              "  <thead>\n",
              "    <tr style=\"text-align: right;\">\n",
              "      <th></th>\n",
              "      <th>Store</th>\n",
              "      <th>DayOfWeek</th>\n",
              "      <th>Date</th>\n",
              "      <th>Sales</th>\n",
              "      <th>Customers</th>\n",
              "      <th>Open</th>\n",
              "      <th>Promo</th>\n",
              "      <th>StateHoliday</th>\n",
              "      <th>SchoolHoliday</th>\n",
              "      <th>StoreType</th>\n",
              "      <th>Assortment</th>\n",
              "      <th>CompetitionDistance</th>\n",
              "      <th>CompetitionOpenSinceMonth</th>\n",
              "      <th>CompetitionOpenSinceYear</th>\n",
              "      <th>Promo2</th>\n",
              "      <th>Promo2SinceWeek</th>\n",
              "      <th>Promo2SinceYear</th>\n",
              "      <th>PromoInterval</th>\n",
              "    </tr>\n",
              "  </thead>\n",
              "  <tbody>\n",
              "  </tbody>\n",
              "</table>\n",
              "</div>\n",
              "      <button class=\"colab-df-convert\" onclick=\"convertToInteractive('df-90d58592-46d2-4482-8c0c-0598bd8554fa')\"\n",
              "              title=\"Convert this dataframe to an interactive table.\"\n",
              "              style=\"display:none;\">\n",
              "        \n",
              "  <svg xmlns=\"http://www.w3.org/2000/svg\" height=\"24px\"viewBox=\"0 0 24 24\"\n",
              "       width=\"24px\">\n",
              "    <path d=\"M0 0h24v24H0V0z\" fill=\"none\"/>\n",
              "    <path d=\"M18.56 5.44l.94 2.06.94-2.06 2.06-.94-2.06-.94-.94-2.06-.94 2.06-2.06.94zm-11 1L8.5 8.5l.94-2.06 2.06-.94-2.06-.94L8.5 2.5l-.94 2.06-2.06.94zm10 10l.94 2.06.94-2.06 2.06-.94-2.06-.94-.94-2.06-.94 2.06-2.06.94z\"/><path d=\"M17.41 7.96l-1.37-1.37c-.4-.4-.92-.59-1.43-.59-.52 0-1.04.2-1.43.59L10.3 9.45l-7.72 7.72c-.78.78-.78 2.05 0 2.83L4 21.41c.39.39.9.59 1.41.59.51 0 1.02-.2 1.41-.59l7.78-7.78 2.81-2.81c.8-.78.8-2.07 0-2.86zM5.41 20L4 18.59l7.72-7.72 1.47 1.35L5.41 20z\"/>\n",
              "  </svg>\n",
              "      </button>\n",
              "      \n",
              "  <style>\n",
              "    .colab-df-container {\n",
              "      display:flex;\n",
              "      flex-wrap:wrap;\n",
              "      gap: 12px;\n",
              "    }\n",
              "\n",
              "    .colab-df-convert {\n",
              "      background-color: #E8F0FE;\n",
              "      border: none;\n",
              "      border-radius: 50%;\n",
              "      cursor: pointer;\n",
              "      display: none;\n",
              "      fill: #1967D2;\n",
              "      height: 32px;\n",
              "      padding: 0 0 0 0;\n",
              "      width: 32px;\n",
              "    }\n",
              "\n",
              "    .colab-df-convert:hover {\n",
              "      background-color: #E2EBFA;\n",
              "      box-shadow: 0px 1px 2px rgba(60, 64, 67, 0.3), 0px 1px 3px 1px rgba(60, 64, 67, 0.15);\n",
              "      fill: #174EA6;\n",
              "    }\n",
              "\n",
              "    [theme=dark] .colab-df-convert {\n",
              "      background-color: #3B4455;\n",
              "      fill: #D2E3FC;\n",
              "    }\n",
              "\n",
              "    [theme=dark] .colab-df-convert:hover {\n",
              "      background-color: #434B5C;\n",
              "      box-shadow: 0px 1px 3px 1px rgba(0, 0, 0, 0.15);\n",
              "      filter: drop-shadow(0px 1px 2px rgba(0, 0, 0, 0.3));\n",
              "      fill: #FFFFFF;\n",
              "    }\n",
              "  </style>\n",
              "\n",
              "      <script>\n",
              "        const buttonEl =\n",
              "          document.querySelector('#df-90d58592-46d2-4482-8c0c-0598bd8554fa button.colab-df-convert');\n",
              "        buttonEl.style.display =\n",
              "          google.colab.kernel.accessAllowed ? 'block' : 'none';\n",
              "\n",
              "        async function convertToInteractive(key) {\n",
              "          const element = document.querySelector('#df-90d58592-46d2-4482-8c0c-0598bd8554fa');\n",
              "          const dataTable =\n",
              "            await google.colab.kernel.invokeFunction('convertToInteractive',\n",
              "                                                     [key], {});\n",
              "          if (!dataTable) return;\n",
              "\n",
              "          const docLinkHtml = 'Like what you see? Visit the ' +\n",
              "            '<a target=\"_blank\" href=https://colab.research.google.com/notebooks/data_table.ipynb>data table notebook</a>'\n",
              "            + ' to learn more about interactive tables.';\n",
              "          element.innerHTML = '';\n",
              "          dataTable['output_type'] = 'display_data';\n",
              "          await google.colab.output.renderOutput(dataTable, element);\n",
              "          const docLink = document.createElement('div');\n",
              "          docLink.innerHTML = docLinkHtml;\n",
              "          element.appendChild(docLink);\n",
              "        }\n",
              "      </script>\n",
              "    </div>\n",
              "  </div>\n",
              "  "
            ]
          },
          "metadata": {},
          "execution_count": 13
        }
      ],
      "source": [
        "# Ensuring outliers from sales are removed ## train\n",
        "\n",
        "col_sales = 'Sales'\n",
        "lower_sales, upper_sales, percent_outliers_sales = calculate_outlier(train, col_sales)\n",
        "\n",
        "print(\"lower band = \" + str(lower_sales))\n",
        "print(\"upper band = \" + str(upper_sales))\n",
        "print(\"percentage of sales that are outliers = \" + str(percent_outliers_sales) + \"%\")\n",
        "train[train[col_sales] > upper_sales]\n",
        "train[train[col_sales] < lower_sales]\n",
        "\n",
        "train.loc[train[col_sales] > upper_sales, 'Sales'] = 14650\n",
        "train.loc[train[col_sales] < lower_sales, 'Sales'] = -2366\n",
        "\n",
        "print(\"Removing identified outliers for sales...\" )\n",
        "\n",
        "print(\"Completed: See table for confirmation. \")\n",
        "\n",
        "train[train['Sales'] > 14650]\n",
        "train[train['Sales'] < -2366]"
      ]
    },
    {
      "cell_type": "code",
      "execution_count": null,
      "metadata": {
        "colab": {
          "base_uri": "https://localhost:8080/",
          "height": 183
        },
        "id": "pt2IHsBj3YJE",
        "outputId": "11de7c12-81b2-4471-af7f-7951065e1701"
      },
      "outputs": [
        {
          "output_type": "stream",
          "name": "stdout",
          "text": [
            "higher band = 1457.5\n",
            "percentage of customers that are outliers = 4.84%\n",
            "Removing identified outliers for customers...\n",
            "See table for confirmation. \n"
          ]
        },
        {
          "output_type": "execute_result",
          "data": {
            "text/plain": [
              "Empty DataFrame\n",
              "Columns: [Store, DayOfWeek, Date, Sales, Customers, Open, Promo, StateHoliday, SchoolHoliday, StoreType, Assortment, CompetitionDistance, CompetitionOpenSinceMonth, CompetitionOpenSinceYear, Promo2, Promo2SinceWeek, Promo2SinceYear, PromoInterval]\n",
              "Index: []"
            ],
            "text/html": [
              "\n",
              "  <div id=\"df-77c14f88-0cf6-405d-9334-f95f44e92d81\">\n",
              "    <div class=\"colab-df-container\">\n",
              "      <div>\n",
              "<style scoped>\n",
              "    .dataframe tbody tr th:only-of-type {\n",
              "        vertical-align: middle;\n",
              "    }\n",
              "\n",
              "    .dataframe tbody tr th {\n",
              "        vertical-align: top;\n",
              "    }\n",
              "\n",
              "    .dataframe thead th {\n",
              "        text-align: right;\n",
              "    }\n",
              "</style>\n",
              "<table border=\"1\" class=\"dataframe\">\n",
              "  <thead>\n",
              "    <tr style=\"text-align: right;\">\n",
              "      <th></th>\n",
              "      <th>Store</th>\n",
              "      <th>DayOfWeek</th>\n",
              "      <th>Date</th>\n",
              "      <th>Sales</th>\n",
              "      <th>Customers</th>\n",
              "      <th>Open</th>\n",
              "      <th>Promo</th>\n",
              "      <th>StateHoliday</th>\n",
              "      <th>SchoolHoliday</th>\n",
              "      <th>StoreType</th>\n",
              "      <th>Assortment</th>\n",
              "      <th>CompetitionDistance</th>\n",
              "      <th>CompetitionOpenSinceMonth</th>\n",
              "      <th>CompetitionOpenSinceYear</th>\n",
              "      <th>Promo2</th>\n",
              "      <th>Promo2SinceWeek</th>\n",
              "      <th>Promo2SinceYear</th>\n",
              "      <th>PromoInterval</th>\n",
              "    </tr>\n",
              "  </thead>\n",
              "  <tbody>\n",
              "  </tbody>\n",
              "</table>\n",
              "</div>\n",
              "      <button class=\"colab-df-convert\" onclick=\"convertToInteractive('df-77c14f88-0cf6-405d-9334-f95f44e92d81')\"\n",
              "              title=\"Convert this dataframe to an interactive table.\"\n",
              "              style=\"display:none;\">\n",
              "        \n",
              "  <svg xmlns=\"http://www.w3.org/2000/svg\" height=\"24px\"viewBox=\"0 0 24 24\"\n",
              "       width=\"24px\">\n",
              "    <path d=\"M0 0h24v24H0V0z\" fill=\"none\"/>\n",
              "    <path d=\"M18.56 5.44l.94 2.06.94-2.06 2.06-.94-2.06-.94-.94-2.06-.94 2.06-2.06.94zm-11 1L8.5 8.5l.94-2.06 2.06-.94-2.06-.94L8.5 2.5l-.94 2.06-2.06.94zm10 10l.94 2.06.94-2.06 2.06-.94-2.06-.94-.94-2.06-.94 2.06-2.06.94z\"/><path d=\"M17.41 7.96l-1.37-1.37c-.4-.4-.92-.59-1.43-.59-.52 0-1.04.2-1.43.59L10.3 9.45l-7.72 7.72c-.78.78-.78 2.05 0 2.83L4 21.41c.39.39.9.59 1.41.59.51 0 1.02-.2 1.41-.59l7.78-7.78 2.81-2.81c.8-.78.8-2.07 0-2.86zM5.41 20L4 18.59l7.72-7.72 1.47 1.35L5.41 20z\"/>\n",
              "  </svg>\n",
              "      </button>\n",
              "      \n",
              "  <style>\n",
              "    .colab-df-container {\n",
              "      display:flex;\n",
              "      flex-wrap:wrap;\n",
              "      gap: 12px;\n",
              "    }\n",
              "\n",
              "    .colab-df-convert {\n",
              "      background-color: #E8F0FE;\n",
              "      border: none;\n",
              "      border-radius: 50%;\n",
              "      cursor: pointer;\n",
              "      display: none;\n",
              "      fill: #1967D2;\n",
              "      height: 32px;\n",
              "      padding: 0 0 0 0;\n",
              "      width: 32px;\n",
              "    }\n",
              "\n",
              "    .colab-df-convert:hover {\n",
              "      background-color: #E2EBFA;\n",
              "      box-shadow: 0px 1px 2px rgba(60, 64, 67, 0.3), 0px 1px 3px 1px rgba(60, 64, 67, 0.15);\n",
              "      fill: #174EA6;\n",
              "    }\n",
              "\n",
              "    [theme=dark] .colab-df-convert {\n",
              "      background-color: #3B4455;\n",
              "      fill: #D2E3FC;\n",
              "    }\n",
              "\n",
              "    [theme=dark] .colab-df-convert:hover {\n",
              "      background-color: #434B5C;\n",
              "      box-shadow: 0px 1px 3px 1px rgba(0, 0, 0, 0.15);\n",
              "      filter: drop-shadow(0px 1px 2px rgba(0, 0, 0, 0.3));\n",
              "      fill: #FFFFFF;\n",
              "    }\n",
              "  </style>\n",
              "\n",
              "      <script>\n",
              "        const buttonEl =\n",
              "          document.querySelector('#df-77c14f88-0cf6-405d-9334-f95f44e92d81 button.colab-df-convert');\n",
              "        buttonEl.style.display =\n",
              "          google.colab.kernel.accessAllowed ? 'block' : 'none';\n",
              "\n",
              "        async function convertToInteractive(key) {\n",
              "          const element = document.querySelector('#df-77c14f88-0cf6-405d-9334-f95f44e92d81');\n",
              "          const dataTable =\n",
              "            await google.colab.kernel.invokeFunction('convertToInteractive',\n",
              "                                                     [key], {});\n",
              "          if (!dataTable) return;\n",
              "\n",
              "          const docLinkHtml = 'Like what you see? Visit the ' +\n",
              "            '<a target=\"_blank\" href=https://colab.research.google.com/notebooks/data_table.ipynb>data table notebook</a>'\n",
              "            + ' to learn more about interactive tables.';\n",
              "          element.innerHTML = '';\n",
              "          dataTable['output_type'] = 'display_data';\n",
              "          await google.colab.output.renderOutput(dataTable, element);\n",
              "          const docLink = document.createElement('div');\n",
              "          docLink.innerHTML = docLinkHtml;\n",
              "          element.appendChild(docLink);\n",
              "        }\n",
              "      </script>\n",
              "    </div>\n",
              "  </div>\n",
              "  "
            ]
          },
          "metadata": {},
          "execution_count": 14
        }
      ],
      "source": [
        "# customer outliers in train\n",
        "col_customers = 'Customers'\n",
        "lower_customers, upper_customers, percent_outliers_customers = calculate_outlier(train, col_customers)\n",
        "\n",
        "\n",
        "print(\"higher band = \" + str(upper_customers))\n",
        "\n",
        "print(\"percentage of customers that are outliers = \" + str(percent_outliers_customers) + \"%\")\n",
        "\n",
        "train[train[col_customers] > upper_customers]\n",
        "train.loc[train[col_customers] > upper_customers, 'Customers'] = 1485\n",
        "\n",
        "\n",
        "print(\"Removing identified outliers for customers...\" )\n",
        "print(\"See table for confirmation. \")\n",
        "\n",
        "train[train['Customers'] > 1485]\n"
      ]
    },
    {
      "cell_type": "code",
      "execution_count": null,
      "metadata": {
        "colab": {
          "base_uri": "https://localhost:8080/",
          "height": 200
        },
        "id": "8ZvWAPie3YJE",
        "outputId": "a227967e-dee9-47ff-90ea-5f40284a7ed9"
      },
      "outputs": [
        {
          "output_type": "stream",
          "name": "stdout",
          "text": [
            "lower band = -252.375\n",
            "upper band = 13538.625\n",
            "percentage of sales that are outliers = 3.6%\n",
            "Removing identified outliers for sales...\n",
            "Completed: See table for confirmation. \n"
          ]
        },
        {
          "output_type": "execute_result",
          "data": {
            "text/plain": [
              "Empty DataFrame\n",
              "Columns: [Store, DayOfWeek, Date, Sales, Customers, Open, Promo, StateHoliday, SchoolHoliday, StoreType, Assortment, CompetitionDistance, CompetitionOpenSinceMonth, CompetitionOpenSinceYear, Promo2, Promo2SinceWeek, Promo2SinceYear, PromoInterval]\n",
              "Index: []"
            ],
            "text/html": [
              "\n",
              "  <div id=\"df-99e5ee65-ec0f-4eee-a32f-436027d11dc9\">\n",
              "    <div class=\"colab-df-container\">\n",
              "      <div>\n",
              "<style scoped>\n",
              "    .dataframe tbody tr th:only-of-type {\n",
              "        vertical-align: middle;\n",
              "    }\n",
              "\n",
              "    .dataframe tbody tr th {\n",
              "        vertical-align: top;\n",
              "    }\n",
              "\n",
              "    .dataframe thead th {\n",
              "        text-align: right;\n",
              "    }\n",
              "</style>\n",
              "<table border=\"1\" class=\"dataframe\">\n",
              "  <thead>\n",
              "    <tr style=\"text-align: right;\">\n",
              "      <th></th>\n",
              "      <th>Store</th>\n",
              "      <th>DayOfWeek</th>\n",
              "      <th>Date</th>\n",
              "      <th>Sales</th>\n",
              "      <th>Customers</th>\n",
              "      <th>Open</th>\n",
              "      <th>Promo</th>\n",
              "      <th>StateHoliday</th>\n",
              "      <th>SchoolHoliday</th>\n",
              "      <th>StoreType</th>\n",
              "      <th>Assortment</th>\n",
              "      <th>CompetitionDistance</th>\n",
              "      <th>CompetitionOpenSinceMonth</th>\n",
              "      <th>CompetitionOpenSinceYear</th>\n",
              "      <th>Promo2</th>\n",
              "      <th>Promo2SinceWeek</th>\n",
              "      <th>Promo2SinceYear</th>\n",
              "      <th>PromoInterval</th>\n",
              "    </tr>\n",
              "  </thead>\n",
              "  <tbody>\n",
              "  </tbody>\n",
              "</table>\n",
              "</div>\n",
              "      <button class=\"colab-df-convert\" onclick=\"convertToInteractive('df-99e5ee65-ec0f-4eee-a32f-436027d11dc9')\"\n",
              "              title=\"Convert this dataframe to an interactive table.\"\n",
              "              style=\"display:none;\">\n",
              "        \n",
              "  <svg xmlns=\"http://www.w3.org/2000/svg\" height=\"24px\"viewBox=\"0 0 24 24\"\n",
              "       width=\"24px\">\n",
              "    <path d=\"M0 0h24v24H0V0z\" fill=\"none\"/>\n",
              "    <path d=\"M18.56 5.44l.94 2.06.94-2.06 2.06-.94-2.06-.94-.94-2.06-.94 2.06-2.06.94zm-11 1L8.5 8.5l.94-2.06 2.06-.94-2.06-.94L8.5 2.5l-.94 2.06-2.06.94zm10 10l.94 2.06.94-2.06 2.06-.94-2.06-.94-.94-2.06-.94 2.06-2.06.94z\"/><path d=\"M17.41 7.96l-1.37-1.37c-.4-.4-.92-.59-1.43-.59-.52 0-1.04.2-1.43.59L10.3 9.45l-7.72 7.72c-.78.78-.78 2.05 0 2.83L4 21.41c.39.39.9.59 1.41.59.51 0 1.02-.2 1.41-.59l7.78-7.78 2.81-2.81c.8-.78.8-2.07 0-2.86zM5.41 20L4 18.59l7.72-7.72 1.47 1.35L5.41 20z\"/>\n",
              "  </svg>\n",
              "      </button>\n",
              "      \n",
              "  <style>\n",
              "    .colab-df-container {\n",
              "      display:flex;\n",
              "      flex-wrap:wrap;\n",
              "      gap: 12px;\n",
              "    }\n",
              "\n",
              "    .colab-df-convert {\n",
              "      background-color: #E8F0FE;\n",
              "      border: none;\n",
              "      border-radius: 50%;\n",
              "      cursor: pointer;\n",
              "      display: none;\n",
              "      fill: #1967D2;\n",
              "      height: 32px;\n",
              "      padding: 0 0 0 0;\n",
              "      width: 32px;\n",
              "    }\n",
              "\n",
              "    .colab-df-convert:hover {\n",
              "      background-color: #E2EBFA;\n",
              "      box-shadow: 0px 1px 2px rgba(60, 64, 67, 0.3), 0px 1px 3px 1px rgba(60, 64, 67, 0.15);\n",
              "      fill: #174EA6;\n",
              "    }\n",
              "\n",
              "    [theme=dark] .colab-df-convert {\n",
              "      background-color: #3B4455;\n",
              "      fill: #D2E3FC;\n",
              "    }\n",
              "\n",
              "    [theme=dark] .colab-df-convert:hover {\n",
              "      background-color: #434B5C;\n",
              "      box-shadow: 0px 1px 3px 1px rgba(0, 0, 0, 0.15);\n",
              "      filter: drop-shadow(0px 1px 2px rgba(0, 0, 0, 0.3));\n",
              "      fill: #FFFFFF;\n",
              "    }\n",
              "  </style>\n",
              "\n",
              "      <script>\n",
              "        const buttonEl =\n",
              "          document.querySelector('#df-99e5ee65-ec0f-4eee-a32f-436027d11dc9 button.colab-df-convert');\n",
              "        buttonEl.style.display =\n",
              "          google.colab.kernel.accessAllowed ? 'block' : 'none';\n",
              "\n",
              "        async function convertToInteractive(key) {\n",
              "          const element = document.querySelector('#df-99e5ee65-ec0f-4eee-a32f-436027d11dc9');\n",
              "          const dataTable =\n",
              "            await google.colab.kernel.invokeFunction('convertToInteractive',\n",
              "                                                     [key], {});\n",
              "          if (!dataTable) return;\n",
              "\n",
              "          const docLinkHtml = 'Like what you see? Visit the ' +\n",
              "            '<a target=\"_blank\" href=https://colab.research.google.com/notebooks/data_table.ipynb>data table notebook</a>'\n",
              "            + ' to learn more about interactive tables.';\n",
              "          element.innerHTML = '';\n",
              "          dataTable['output_type'] = 'display_data';\n",
              "          await google.colab.output.renderOutput(dataTable, element);\n",
              "          const docLink = document.createElement('div');\n",
              "          docLink.innerHTML = docLinkHtml;\n",
              "          element.appendChild(docLink);\n",
              "        }\n",
              "      </script>\n",
              "    </div>\n",
              "  </div>\n",
              "  "
            ]
          },
          "metadata": {},
          "execution_count": 15
        }
      ],
      "source": [
        "# removing validation outliers ## sales\n",
        "\n",
        "col_sales = 'Sales'\n",
        "lower_sales, upper_sales, percent_outliers_sales = calculate_outlier(valid, col_sales)\n",
        "\n",
        "print(\"lower band = \" + str(lower_sales))\n",
        "print(\"upper band = \" + str(upper_sales))\n",
        "print(\"percentage of sales that are outliers = \" + str(percent_outliers_sales) + \"%\")\n",
        "valid[valid[col_sales] > upper_sales]\n",
        "valid[valid[col_sales] < lower_sales]\n",
        "\n",
        "valid.loc[valid[col_sales] > upper_sales, 'Sales'] = 14650\n",
        "valid.loc[valid[col_sales] < lower_sales, 'Sales'] = -2366\n",
        "\n",
        "print(\"Removing identified outliers for sales...\" )\n",
        "\n",
        "print(\"Completed: See table for confirmation. \")\n",
        "\n",
        "valid[valid['Sales'] > 14650]\n",
        "valid[valid['Sales'] < -2366]"
      ]
    },
    {
      "cell_type": "code",
      "execution_count": null,
      "metadata": {
        "colab": {
          "base_uri": "https://localhost:8080/",
          "height": 183
        },
        "id": "ft04h3ei3YJF",
        "outputId": "b3c9169a-63ab-4ce0-aff9-f6c806d931d4"
      },
      "outputs": [
        {
          "output_type": "stream",
          "name": "stdout",
          "text": [
            "higher band = 1361.0\n",
            "percentage of customers that are outliers = 4.94%\n",
            "Removing identified outliers for customers...\n",
            "See table for confirmation. \n"
          ]
        },
        {
          "output_type": "execute_result",
          "data": {
            "text/plain": [
              "Empty DataFrame\n",
              "Columns: [Store, DayOfWeek, Date, Sales, Customers, Open, Promo, StateHoliday, SchoolHoliday, StoreType, Assortment, CompetitionDistance, CompetitionOpenSinceMonth, CompetitionOpenSinceYear, Promo2, Promo2SinceWeek, Promo2SinceYear, PromoInterval]\n",
              "Index: []"
            ],
            "text/html": [
              "\n",
              "  <div id=\"df-2ddd29ce-cd60-49a4-8965-af4176e22cbc\">\n",
              "    <div class=\"colab-df-container\">\n",
              "      <div>\n",
              "<style scoped>\n",
              "    .dataframe tbody tr th:only-of-type {\n",
              "        vertical-align: middle;\n",
              "    }\n",
              "\n",
              "    .dataframe tbody tr th {\n",
              "        vertical-align: top;\n",
              "    }\n",
              "\n",
              "    .dataframe thead th {\n",
              "        text-align: right;\n",
              "    }\n",
              "</style>\n",
              "<table border=\"1\" class=\"dataframe\">\n",
              "  <thead>\n",
              "    <tr style=\"text-align: right;\">\n",
              "      <th></th>\n",
              "      <th>Store</th>\n",
              "      <th>DayOfWeek</th>\n",
              "      <th>Date</th>\n",
              "      <th>Sales</th>\n",
              "      <th>Customers</th>\n",
              "      <th>Open</th>\n",
              "      <th>Promo</th>\n",
              "      <th>StateHoliday</th>\n",
              "      <th>SchoolHoliday</th>\n",
              "      <th>StoreType</th>\n",
              "      <th>Assortment</th>\n",
              "      <th>CompetitionDistance</th>\n",
              "      <th>CompetitionOpenSinceMonth</th>\n",
              "      <th>CompetitionOpenSinceYear</th>\n",
              "      <th>Promo2</th>\n",
              "      <th>Promo2SinceWeek</th>\n",
              "      <th>Promo2SinceYear</th>\n",
              "      <th>PromoInterval</th>\n",
              "    </tr>\n",
              "  </thead>\n",
              "  <tbody>\n",
              "  </tbody>\n",
              "</table>\n",
              "</div>\n",
              "      <button class=\"colab-df-convert\" onclick=\"convertToInteractive('df-2ddd29ce-cd60-49a4-8965-af4176e22cbc')\"\n",
              "              title=\"Convert this dataframe to an interactive table.\"\n",
              "              style=\"display:none;\">\n",
              "        \n",
              "  <svg xmlns=\"http://www.w3.org/2000/svg\" height=\"24px\"viewBox=\"0 0 24 24\"\n",
              "       width=\"24px\">\n",
              "    <path d=\"M0 0h24v24H0V0z\" fill=\"none\"/>\n",
              "    <path d=\"M18.56 5.44l.94 2.06.94-2.06 2.06-.94-2.06-.94-.94-2.06-.94 2.06-2.06.94zm-11 1L8.5 8.5l.94-2.06 2.06-.94-2.06-.94L8.5 2.5l-.94 2.06-2.06.94zm10 10l.94 2.06.94-2.06 2.06-.94-2.06-.94-.94-2.06-.94 2.06-2.06.94z\"/><path d=\"M17.41 7.96l-1.37-1.37c-.4-.4-.92-.59-1.43-.59-.52 0-1.04.2-1.43.59L10.3 9.45l-7.72 7.72c-.78.78-.78 2.05 0 2.83L4 21.41c.39.39.9.59 1.41.59.51 0 1.02-.2 1.41-.59l7.78-7.78 2.81-2.81c.8-.78.8-2.07 0-2.86zM5.41 20L4 18.59l7.72-7.72 1.47 1.35L5.41 20z\"/>\n",
              "  </svg>\n",
              "      </button>\n",
              "      \n",
              "  <style>\n",
              "    .colab-df-container {\n",
              "      display:flex;\n",
              "      flex-wrap:wrap;\n",
              "      gap: 12px;\n",
              "    }\n",
              "\n",
              "    .colab-df-convert {\n",
              "      background-color: #E8F0FE;\n",
              "      border: none;\n",
              "      border-radius: 50%;\n",
              "      cursor: pointer;\n",
              "      display: none;\n",
              "      fill: #1967D2;\n",
              "      height: 32px;\n",
              "      padding: 0 0 0 0;\n",
              "      width: 32px;\n",
              "    }\n",
              "\n",
              "    .colab-df-convert:hover {\n",
              "      background-color: #E2EBFA;\n",
              "      box-shadow: 0px 1px 2px rgba(60, 64, 67, 0.3), 0px 1px 3px 1px rgba(60, 64, 67, 0.15);\n",
              "      fill: #174EA6;\n",
              "    }\n",
              "\n",
              "    [theme=dark] .colab-df-convert {\n",
              "      background-color: #3B4455;\n",
              "      fill: #D2E3FC;\n",
              "    }\n",
              "\n",
              "    [theme=dark] .colab-df-convert:hover {\n",
              "      background-color: #434B5C;\n",
              "      box-shadow: 0px 1px 3px 1px rgba(0, 0, 0, 0.15);\n",
              "      filter: drop-shadow(0px 1px 2px rgba(0, 0, 0, 0.3));\n",
              "      fill: #FFFFFF;\n",
              "    }\n",
              "  </style>\n",
              "\n",
              "      <script>\n",
              "        const buttonEl =\n",
              "          document.querySelector('#df-2ddd29ce-cd60-49a4-8965-af4176e22cbc button.colab-df-convert');\n",
              "        buttonEl.style.display =\n",
              "          google.colab.kernel.accessAllowed ? 'block' : 'none';\n",
              "\n",
              "        async function convertToInteractive(key) {\n",
              "          const element = document.querySelector('#df-2ddd29ce-cd60-49a4-8965-af4176e22cbc');\n",
              "          const dataTable =\n",
              "            await google.colab.kernel.invokeFunction('convertToInteractive',\n",
              "                                                     [key], {});\n",
              "          if (!dataTable) return;\n",
              "\n",
              "          const docLinkHtml = 'Like what you see? Visit the ' +\n",
              "            '<a target=\"_blank\" href=https://colab.research.google.com/notebooks/data_table.ipynb>data table notebook</a>'\n",
              "            + ' to learn more about interactive tables.';\n",
              "          element.innerHTML = '';\n",
              "          dataTable['output_type'] = 'display_data';\n",
              "          await google.colab.output.renderOutput(dataTable, element);\n",
              "          const docLink = document.createElement('div');\n",
              "          docLink.innerHTML = docLinkHtml;\n",
              "          element.appendChild(docLink);\n",
              "        }\n",
              "      </script>\n",
              "    </div>\n",
              "  </div>\n",
              "  "
            ]
          },
          "metadata": {},
          "execution_count": 16
        }
      ],
      "source": [
        "# removing outliers from customers ## validation\n",
        "\n",
        "col_customers = 'Customers'\n",
        "lower_customers, upper_customers, percent_outliers_customers = calculate_outlier(valid, col_customers)\n",
        "\n",
        "\n",
        "print(\"higher band = \" + str(upper_customers))\n",
        "\n",
        "print(\"percentage of customers that are outliers = \" + str(percent_outliers_customers) + \"%\")\n",
        "\n",
        "valid[valid[col_customers] > upper_customers]\n",
        "valid.loc[valid[col_customers] > upper_customers, 'Customers'] = 1485\n",
        "\n",
        "\n",
        "print(\"Removing identified outliers for customers...\" )\n",
        "print(\"See table for confirmation. \")\n",
        "\n",
        "valid[valid['Customers'] > 1485]"
      ]
    },
    {
      "cell_type": "code",
      "execution_count": null,
      "metadata": {
        "id": "BvKv3UqL3YJF"
      },
      "outputs": [],
      "source": [
        "# train = train.drop(columns=['Sales']), np.log1p(df_train['Sales'])\n",
        "# valid = valid.drop(columns = ['Sales']), np.log1p(valid['Sales'])\n"
      ]
    },
    {
      "cell_type": "code",
      "execution_count": null,
      "metadata": {
        "id": "lULaXces3YJF"
      },
      "outputs": [],
      "source": [
        "# imputing our data through the pipe class\n",
        "\n",
        "processed_train_data = (train.\n",
        "pipe(date_time).\n",
        "pipe(to_category).\n",
        "pipe(one_hot))"
      ]
    },
    {
      "cell_type": "code",
      "execution_count": null,
      "metadata": {
        "id": "BChTTrPd3YJF"
      },
      "outputs": [],
      "source": [
        "processed_validation_data = (valid.\n",
        "pipe(date_time).\n",
        "pipe(to_category).\n",
        "pipe(one_hot))"
      ]
    },
    {
      "cell_type": "code",
      "execution_count": null,
      "metadata": {
        "id": "N2hBF77Y3YJF"
      },
      "outputs": [],
      "source": [
        "processed_test_data = (test.\n",
        "pipe(date_time).\n",
        "pipe(to_category).\n",
        "pipe(one_hot))"
      ]
    },
    {
      "cell_type": "code",
      "execution_count": null,
      "metadata": {
        "colab": {
          "base_uri": "https://localhost:8080/"
        },
        "id": "2QgqJLJe3YJF",
        "outputId": "5798f0f5-1f89-492a-acbe-0ab2bb22ef63"
      },
      "outputs": [
        {
          "output_type": "execute_result",
          "data": {
            "text/plain": [
              "(804056, 39)"
            ]
          },
          "metadata": {},
          "execution_count": 21
        }
      ],
      "source": [
        "processed_train_data.shape"
      ]
    },
    {
      "cell_type": "code",
      "execution_count": null,
      "metadata": {
        "id": "aTEAPvHN3YJG"
      },
      "outputs": [],
      "source": [
        "train = process_train_valid(train)\n",
        "valid = process_train_valid(valid)\n",
        "test = process_train_valid(test, isTest=True)"
      ]
    },
    {
      "cell_type": "code",
      "execution_count": null,
      "metadata": {
        "colab": {
          "base_uri": "https://localhost:8080/"
        },
        "id": "4LUJWF9N3YJG",
        "outputId": "6da1a8cf-dd50-4a8d-a54c-ec2664290a19"
      },
      "outputs": [
        {
          "output_type": "execute_result",
          "data": {
            "text/plain": [
              "(804056, 21)"
            ]
          },
          "metadata": {},
          "execution_count": 23
        }
      ],
      "source": [
        "train.shape"
      ]
    },
    {
      "cell_type": "code",
      "execution_count": null,
      "metadata": {
        "colab": {
          "base_uri": "https://localhost:8080/"
        },
        "id": "v592OXTJ3YJG",
        "outputId": "b2d8730b-3d93-4d94-d90c-72f6d1f3a6af"
      },
      "outputs": [
        {
          "output_type": "execute_result",
          "data": {
            "text/plain": [
              "(40282, 21)"
            ]
          },
          "metadata": {},
          "execution_count": 24
        }
      ],
      "source": [
        "valid.shape"
      ]
    },
    {
      "cell_type": "code",
      "execution_count": null,
      "metadata": {
        "colab": {
          "base_uri": "https://localhost:8080/"
        },
        "id": "KwNmPYW43YJG",
        "outputId": "10f040da-58a4-48f2-d5e5-5835d515335e"
      },
      "outputs": [
        {
          "output_type": "execute_result",
          "data": {
            "text/plain": [
              "(41088, 20)"
            ]
          },
          "metadata": {},
          "execution_count": 25
        }
      ],
      "source": [
        "test.shape"
      ]
    },
    {
      "cell_type": "code",
      "execution_count": null,
      "metadata": {
        "colab": {
          "base_uri": "https://localhost:8080/",
          "height": 299
        },
        "id": "2pDKFVnV3YJG",
        "outputId": "50bd8481-8183-4cc8-dab8-05a6b3922efc"
      },
      "outputs": [
        {
          "output_type": "execute_result",
          "data": {
            "text/plain": [
              "        Store  DayOfWeek  Promo  StateHoliday  SchoolHoliday  StoreType  \\\n",
              "284584    314          5      1             0              0          1   \n",
              "417104    458          5      1             0              0          3   \n",
              "875290    961          5      1             0              0          4   \n",
              "119580    132          5      1             0              0          4   \n",
              "807974    887          5      1             0              0          4   \n",
              "\n",
              "        Assortment  CompetitionDistance  CompetitionOpenSinceMonth  \\\n",
              "284584           1               3560.0                       10.0   \n",
              "417104           1               3390.0                        0.0   \n",
              "875290           3               9430.0                        0.0   \n",
              "119580           3               1040.0                        0.0   \n",
              "807974           1              19700.0                        0.0   \n",
              "\n",
              "        CompetitionOpenSinceYear  ...  Promo2SinceWeek  Promo2SinceYear  Year  \\\n",
              "284584                    2001.0  ...             31.0           2013.0  2015   \n",
              "417104                       0.0  ...              0.0              0.0  2015   \n",
              "875290                       0.0  ...              0.0              0.0  2015   \n",
              "119580                       0.0  ...             27.0           2012.0  2015   \n",
              "807974                       0.0  ...             37.0           2009.0  2015   \n",
              "\n",
              "        Month  Day  WeekOfYear  CompetitionOpen  PromoOpen  IsPromoMonth  \\\n",
              "284584      6   19          25            164.0      22.50             0   \n",
              "417104      6   19          25          24186.0   24186.25             0   \n",
              "875290      6   19          25          24186.0   24186.25             0   \n",
              "119580      6   19          25          24186.0      35.50             0   \n",
              "807974      6   19          25          24186.0      69.00             0   \n",
              "\n",
              "        Sales  \n",
              "284584   5032  \n",
              "417104   7362  \n",
              "875290   7764  \n",
              "119580   7964  \n",
              "807974   7776  \n",
              "\n",
              "[5 rows x 21 columns]"
            ],
            "text/html": [
              "\n",
              "  <div id=\"df-0ed788d1-aedb-4f36-a60e-6698eb6684a5\">\n",
              "    <div class=\"colab-df-container\">\n",
              "      <div>\n",
              "<style scoped>\n",
              "    .dataframe tbody tr th:only-of-type {\n",
              "        vertical-align: middle;\n",
              "    }\n",
              "\n",
              "    .dataframe tbody tr th {\n",
              "        vertical-align: top;\n",
              "    }\n",
              "\n",
              "    .dataframe thead th {\n",
              "        text-align: right;\n",
              "    }\n",
              "</style>\n",
              "<table border=\"1\" class=\"dataframe\">\n",
              "  <thead>\n",
              "    <tr style=\"text-align: right;\">\n",
              "      <th></th>\n",
              "      <th>Store</th>\n",
              "      <th>DayOfWeek</th>\n",
              "      <th>Promo</th>\n",
              "      <th>StateHoliday</th>\n",
              "      <th>SchoolHoliday</th>\n",
              "      <th>StoreType</th>\n",
              "      <th>Assortment</th>\n",
              "      <th>CompetitionDistance</th>\n",
              "      <th>CompetitionOpenSinceMonth</th>\n",
              "      <th>CompetitionOpenSinceYear</th>\n",
              "      <th>...</th>\n",
              "      <th>Promo2SinceWeek</th>\n",
              "      <th>Promo2SinceYear</th>\n",
              "      <th>Year</th>\n",
              "      <th>Month</th>\n",
              "      <th>Day</th>\n",
              "      <th>WeekOfYear</th>\n",
              "      <th>CompetitionOpen</th>\n",
              "      <th>PromoOpen</th>\n",
              "      <th>IsPromoMonth</th>\n",
              "      <th>Sales</th>\n",
              "    </tr>\n",
              "  </thead>\n",
              "  <tbody>\n",
              "    <tr>\n",
              "      <th>284584</th>\n",
              "      <td>314</td>\n",
              "      <td>5</td>\n",
              "      <td>1</td>\n",
              "      <td>0</td>\n",
              "      <td>0</td>\n",
              "      <td>1</td>\n",
              "      <td>1</td>\n",
              "      <td>3560.0</td>\n",
              "      <td>10.0</td>\n",
              "      <td>2001.0</td>\n",
              "      <td>...</td>\n",
              "      <td>31.0</td>\n",
              "      <td>2013.0</td>\n",
              "      <td>2015</td>\n",
              "      <td>6</td>\n",
              "      <td>19</td>\n",
              "      <td>25</td>\n",
              "      <td>164.0</td>\n",
              "      <td>22.50</td>\n",
              "      <td>0</td>\n",
              "      <td>5032</td>\n",
              "    </tr>\n",
              "    <tr>\n",
              "      <th>417104</th>\n",
              "      <td>458</td>\n",
              "      <td>5</td>\n",
              "      <td>1</td>\n",
              "      <td>0</td>\n",
              "      <td>0</td>\n",
              "      <td>3</td>\n",
              "      <td>1</td>\n",
              "      <td>3390.0</td>\n",
              "      <td>0.0</td>\n",
              "      <td>0.0</td>\n",
              "      <td>...</td>\n",
              "      <td>0.0</td>\n",
              "      <td>0.0</td>\n",
              "      <td>2015</td>\n",
              "      <td>6</td>\n",
              "      <td>19</td>\n",
              "      <td>25</td>\n",
              "      <td>24186.0</td>\n",
              "      <td>24186.25</td>\n",
              "      <td>0</td>\n",
              "      <td>7362</td>\n",
              "    </tr>\n",
              "    <tr>\n",
              "      <th>875290</th>\n",
              "      <td>961</td>\n",
              "      <td>5</td>\n",
              "      <td>1</td>\n",
              "      <td>0</td>\n",
              "      <td>0</td>\n",
              "      <td>4</td>\n",
              "      <td>3</td>\n",
              "      <td>9430.0</td>\n",
              "      <td>0.0</td>\n",
              "      <td>0.0</td>\n",
              "      <td>...</td>\n",
              "      <td>0.0</td>\n",
              "      <td>0.0</td>\n",
              "      <td>2015</td>\n",
              "      <td>6</td>\n",
              "      <td>19</td>\n",
              "      <td>25</td>\n",
              "      <td>24186.0</td>\n",
              "      <td>24186.25</td>\n",
              "      <td>0</td>\n",
              "      <td>7764</td>\n",
              "    </tr>\n",
              "    <tr>\n",
              "      <th>119580</th>\n",
              "      <td>132</td>\n",
              "      <td>5</td>\n",
              "      <td>1</td>\n",
              "      <td>0</td>\n",
              "      <td>0</td>\n",
              "      <td>4</td>\n",
              "      <td>3</td>\n",
              "      <td>1040.0</td>\n",
              "      <td>0.0</td>\n",
              "      <td>0.0</td>\n",
              "      <td>...</td>\n",
              "      <td>27.0</td>\n",
              "      <td>2012.0</td>\n",
              "      <td>2015</td>\n",
              "      <td>6</td>\n",
              "      <td>19</td>\n",
              "      <td>25</td>\n",
              "      <td>24186.0</td>\n",
              "      <td>35.50</td>\n",
              "      <td>0</td>\n",
              "      <td>7964</td>\n",
              "    </tr>\n",
              "    <tr>\n",
              "      <th>807974</th>\n",
              "      <td>887</td>\n",
              "      <td>5</td>\n",
              "      <td>1</td>\n",
              "      <td>0</td>\n",
              "      <td>0</td>\n",
              "      <td>4</td>\n",
              "      <td>1</td>\n",
              "      <td>19700.0</td>\n",
              "      <td>0.0</td>\n",
              "      <td>0.0</td>\n",
              "      <td>...</td>\n",
              "      <td>37.0</td>\n",
              "      <td>2009.0</td>\n",
              "      <td>2015</td>\n",
              "      <td>6</td>\n",
              "      <td>19</td>\n",
              "      <td>25</td>\n",
              "      <td>24186.0</td>\n",
              "      <td>69.00</td>\n",
              "      <td>0</td>\n",
              "      <td>7776</td>\n",
              "    </tr>\n",
              "  </tbody>\n",
              "</table>\n",
              "<p>5 rows × 21 columns</p>\n",
              "</div>\n",
              "      <button class=\"colab-df-convert\" onclick=\"convertToInteractive('df-0ed788d1-aedb-4f36-a60e-6698eb6684a5')\"\n",
              "              title=\"Convert this dataframe to an interactive table.\"\n",
              "              style=\"display:none;\">\n",
              "        \n",
              "  <svg xmlns=\"http://www.w3.org/2000/svg\" height=\"24px\"viewBox=\"0 0 24 24\"\n",
              "       width=\"24px\">\n",
              "    <path d=\"M0 0h24v24H0V0z\" fill=\"none\"/>\n",
              "    <path d=\"M18.56 5.44l.94 2.06.94-2.06 2.06-.94-2.06-.94-.94-2.06-.94 2.06-2.06.94zm-11 1L8.5 8.5l.94-2.06 2.06-.94-2.06-.94L8.5 2.5l-.94 2.06-2.06.94zm10 10l.94 2.06.94-2.06 2.06-.94-2.06-.94-.94-2.06-.94 2.06-2.06.94z\"/><path d=\"M17.41 7.96l-1.37-1.37c-.4-.4-.92-.59-1.43-.59-.52 0-1.04.2-1.43.59L10.3 9.45l-7.72 7.72c-.78.78-.78 2.05 0 2.83L4 21.41c.39.39.9.59 1.41.59.51 0 1.02-.2 1.41-.59l7.78-7.78 2.81-2.81c.8-.78.8-2.07 0-2.86zM5.41 20L4 18.59l7.72-7.72 1.47 1.35L5.41 20z\"/>\n",
              "  </svg>\n",
              "      </button>\n",
              "      \n",
              "  <style>\n",
              "    .colab-df-container {\n",
              "      display:flex;\n",
              "      flex-wrap:wrap;\n",
              "      gap: 12px;\n",
              "    }\n",
              "\n",
              "    .colab-df-convert {\n",
              "      background-color: #E8F0FE;\n",
              "      border: none;\n",
              "      border-radius: 50%;\n",
              "      cursor: pointer;\n",
              "      display: none;\n",
              "      fill: #1967D2;\n",
              "      height: 32px;\n",
              "      padding: 0 0 0 0;\n",
              "      width: 32px;\n",
              "    }\n",
              "\n",
              "    .colab-df-convert:hover {\n",
              "      background-color: #E2EBFA;\n",
              "      box-shadow: 0px 1px 2px rgba(60, 64, 67, 0.3), 0px 1px 3px 1px rgba(60, 64, 67, 0.15);\n",
              "      fill: #174EA6;\n",
              "    }\n",
              "\n",
              "    [theme=dark] .colab-df-convert {\n",
              "      background-color: #3B4455;\n",
              "      fill: #D2E3FC;\n",
              "    }\n",
              "\n",
              "    [theme=dark] .colab-df-convert:hover {\n",
              "      background-color: #434B5C;\n",
              "      box-shadow: 0px 1px 3px 1px rgba(0, 0, 0, 0.15);\n",
              "      filter: drop-shadow(0px 1px 2px rgba(0, 0, 0, 0.3));\n",
              "      fill: #FFFFFF;\n",
              "    }\n",
              "  </style>\n",
              "\n",
              "      <script>\n",
              "        const buttonEl =\n",
              "          document.querySelector('#df-0ed788d1-aedb-4f36-a60e-6698eb6684a5 button.colab-df-convert');\n",
              "        buttonEl.style.display =\n",
              "          google.colab.kernel.accessAllowed ? 'block' : 'none';\n",
              "\n",
              "        async function convertToInteractive(key) {\n",
              "          const element = document.querySelector('#df-0ed788d1-aedb-4f36-a60e-6698eb6684a5');\n",
              "          const dataTable =\n",
              "            await google.colab.kernel.invokeFunction('convertToInteractive',\n",
              "                                                     [key], {});\n",
              "          if (!dataTable) return;\n",
              "\n",
              "          const docLinkHtml = 'Like what you see? Visit the ' +\n",
              "            '<a target=\"_blank\" href=https://colab.research.google.com/notebooks/data_table.ipynb>data table notebook</a>'\n",
              "            + ' to learn more about interactive tables.';\n",
              "          element.innerHTML = '';\n",
              "          dataTable['output_type'] = 'display_data';\n",
              "          await google.colab.output.renderOutput(dataTable, element);\n",
              "          const docLink = document.createElement('div');\n",
              "          docLink.innerHTML = docLinkHtml;\n",
              "          element.appendChild(docLink);\n",
              "        }\n",
              "      </script>\n",
              "    </div>\n",
              "  </div>\n",
              "  "
            ]
          },
          "metadata": {},
          "execution_count": 26
        }
      ],
      "source": [
        "train.head()"
      ]
    },
    {
      "cell_type": "code",
      "execution_count": null,
      "metadata": {
        "id": "i4C_1Fpk3YJG"
      },
      "outputs": [],
      "source": [
        "import pickle\n",
        "\n",
        "from pickle import dump\n"
      ]
    },
    {
      "cell_type": "code",
      "execution_count": null,
      "metadata": {
        "id": "7b-XNQ293YJH"
      },
      "outputs": [],
      "source": [
        "train_data_processed = train\n",
        "\n",
        "with open('train_data_processed.pkl', 'wb') as file:\n",
        "    pickle.dump(train_data_processed, file)"
      ]
    },
    {
      "cell_type": "code",
      "execution_count": null,
      "metadata": {
        "id": "AMXaznjB3YJH"
      },
      "outputs": [],
      "source": [
        "test_data_processed = test\n",
        "\n",
        "with open('test_data_processed.pkl', 'wb') as file:\n",
        "    pickle.dump(test_data_processed, file)"
      ]
    },
    {
      "cell_type": "code",
      "execution_count": null,
      "metadata": {
        "id": "vUkGhomK3YJH"
      },
      "outputs": [],
      "source": [
        "valid_data_processed = valid\n",
        "\n",
        "with open('valid_data_processed.pkl', 'wb') as file:\n",
        "    pickle.dump(valid_data_processed, file)"
      ]
    },
    {
      "cell_type": "code",
      "execution_count": null,
      "metadata": {
        "id": "lwqc1Y983YJH"
      },
      "outputs": [],
      "source": [
        "with open('train_data_processed.pkl', 'rb') as train_file:\n",
        "\n",
        "    train_data = pickle.load(train_file)"
      ]
    },
    {
      "cell_type": "code",
      "execution_count": null,
      "metadata": {
        "id": "f2Sx-N323YJH",
        "outputId": "064424ac-a8aa-45ef-bcdf-7a6d58e9dfca"
      },
      "outputs": [
        {
          "data": {
            "text/html": [
              "<div>\n",
              "<style scoped>\n",
              "    .dataframe tbody tr th:only-of-type {\n",
              "        vertical-align: middle;\n",
              "    }\n",
              "\n",
              "    .dataframe tbody tr th {\n",
              "        vertical-align: top;\n",
              "    }\n",
              "\n",
              "    .dataframe thead th {\n",
              "        text-align: right;\n",
              "    }\n",
              "</style>\n",
              "<table border=\"1\" class=\"dataframe\">\n",
              "  <thead>\n",
              "    <tr style=\"text-align: right;\">\n",
              "      <th></th>\n",
              "      <th>Store</th>\n",
              "      <th>DayOfWeek</th>\n",
              "      <th>Promo</th>\n",
              "      <th>StateHoliday</th>\n",
              "      <th>SchoolHoliday</th>\n",
              "      <th>StoreType</th>\n",
              "      <th>Assortment</th>\n",
              "      <th>CompetitionDistance</th>\n",
              "      <th>CompetitionOpenSinceMonth</th>\n",
              "      <th>CompetitionOpenSinceYear</th>\n",
              "      <th>...</th>\n",
              "      <th>Promo2SinceWeek</th>\n",
              "      <th>Promo2SinceYear</th>\n",
              "      <th>Year</th>\n",
              "      <th>Month</th>\n",
              "      <th>Day</th>\n",
              "      <th>WeekOfYear</th>\n",
              "      <th>CompetitionOpen</th>\n",
              "      <th>PromoOpen</th>\n",
              "      <th>IsPromoMonth</th>\n",
              "      <th>Sales</th>\n",
              "    </tr>\n",
              "  </thead>\n",
              "  <tbody>\n",
              "    <tr>\n",
              "      <th>284584</th>\n",
              "      <td>314</td>\n",
              "      <td>5</td>\n",
              "      <td>1</td>\n",
              "      <td>0</td>\n",
              "      <td>0</td>\n",
              "      <td>1</td>\n",
              "      <td>1</td>\n",
              "      <td>3560.0</td>\n",
              "      <td>10.0</td>\n",
              "      <td>2001.0</td>\n",
              "      <td>...</td>\n",
              "      <td>31.0</td>\n",
              "      <td>2013.0</td>\n",
              "      <td>2015</td>\n",
              "      <td>6</td>\n",
              "      <td>19</td>\n",
              "      <td>25</td>\n",
              "      <td>164.0</td>\n",
              "      <td>22.50</td>\n",
              "      <td>0</td>\n",
              "      <td>5032</td>\n",
              "    </tr>\n",
              "    <tr>\n",
              "      <th>417104</th>\n",
              "      <td>458</td>\n",
              "      <td>5</td>\n",
              "      <td>1</td>\n",
              "      <td>0</td>\n",
              "      <td>0</td>\n",
              "      <td>3</td>\n",
              "      <td>1</td>\n",
              "      <td>3390.0</td>\n",
              "      <td>0.0</td>\n",
              "      <td>0.0</td>\n",
              "      <td>...</td>\n",
              "      <td>0.0</td>\n",
              "      <td>0.0</td>\n",
              "      <td>2015</td>\n",
              "      <td>6</td>\n",
              "      <td>19</td>\n",
              "      <td>25</td>\n",
              "      <td>24186.0</td>\n",
              "      <td>24186.25</td>\n",
              "      <td>0</td>\n",
              "      <td>7362</td>\n",
              "    </tr>\n",
              "    <tr>\n",
              "      <th>875290</th>\n",
              "      <td>961</td>\n",
              "      <td>5</td>\n",
              "      <td>1</td>\n",
              "      <td>0</td>\n",
              "      <td>0</td>\n",
              "      <td>4</td>\n",
              "      <td>3</td>\n",
              "      <td>9430.0</td>\n",
              "      <td>0.0</td>\n",
              "      <td>0.0</td>\n",
              "      <td>...</td>\n",
              "      <td>0.0</td>\n",
              "      <td>0.0</td>\n",
              "      <td>2015</td>\n",
              "      <td>6</td>\n",
              "      <td>19</td>\n",
              "      <td>25</td>\n",
              "      <td>24186.0</td>\n",
              "      <td>24186.25</td>\n",
              "      <td>0</td>\n",
              "      <td>7764</td>\n",
              "    </tr>\n",
              "    <tr>\n",
              "      <th>119580</th>\n",
              "      <td>132</td>\n",
              "      <td>5</td>\n",
              "      <td>1</td>\n",
              "      <td>0</td>\n",
              "      <td>0</td>\n",
              "      <td>4</td>\n",
              "      <td>3</td>\n",
              "      <td>1040.0</td>\n",
              "      <td>0.0</td>\n",
              "      <td>0.0</td>\n",
              "      <td>...</td>\n",
              "      <td>27.0</td>\n",
              "      <td>2012.0</td>\n",
              "      <td>2015</td>\n",
              "      <td>6</td>\n",
              "      <td>19</td>\n",
              "      <td>25</td>\n",
              "      <td>24186.0</td>\n",
              "      <td>35.50</td>\n",
              "      <td>0</td>\n",
              "      <td>7964</td>\n",
              "    </tr>\n",
              "    <tr>\n",
              "      <th>807974</th>\n",
              "      <td>887</td>\n",
              "      <td>5</td>\n",
              "      <td>1</td>\n",
              "      <td>0</td>\n",
              "      <td>0</td>\n",
              "      <td>4</td>\n",
              "      <td>1</td>\n",
              "      <td>19700.0</td>\n",
              "      <td>0.0</td>\n",
              "      <td>0.0</td>\n",
              "      <td>...</td>\n",
              "      <td>37.0</td>\n",
              "      <td>2009.0</td>\n",
              "      <td>2015</td>\n",
              "      <td>6</td>\n",
              "      <td>19</td>\n",
              "      <td>25</td>\n",
              "      <td>24186.0</td>\n",
              "      <td>69.00</td>\n",
              "      <td>0</td>\n",
              "      <td>7776</td>\n",
              "    </tr>\n",
              "  </tbody>\n",
              "</table>\n",
              "<p>5 rows × 21 columns</p>\n",
              "</div>"
            ],
            "text/plain": [
              "        Store  DayOfWeek  Promo StateHoliday  SchoolHoliday StoreType  \\\n",
              "284584    314          5      1            0              0         1   \n",
              "417104    458          5      1            0              0         3   \n",
              "875290    961          5      1            0              0         4   \n",
              "119580    132          5      1            0              0         4   \n",
              "807974    887          5      1            0              0         4   \n",
              "\n",
              "       Assortment  CompetitionDistance  CompetitionOpenSinceMonth  \\\n",
              "284584          1               3560.0                       10.0   \n",
              "417104          1               3390.0                        0.0   \n",
              "875290          3               9430.0                        0.0   \n",
              "119580          3               1040.0                        0.0   \n",
              "807974          1              19700.0                        0.0   \n",
              "\n",
              "        CompetitionOpenSinceYear  ...  Promo2SinceWeek  Promo2SinceYear  Year  \\\n",
              "284584                    2001.0  ...             31.0           2013.0  2015   \n",
              "417104                       0.0  ...              0.0              0.0  2015   \n",
              "875290                       0.0  ...              0.0              0.0  2015   \n",
              "119580                       0.0  ...             27.0           2012.0  2015   \n",
              "807974                       0.0  ...             37.0           2009.0  2015   \n",
              "\n",
              "        Month  Day  WeekOfYear  CompetitionOpen  PromoOpen  IsPromoMonth  \\\n",
              "284584      6   19          25            164.0      22.50             0   \n",
              "417104      6   19          25          24186.0   24186.25             0   \n",
              "875290      6   19          25          24186.0   24186.25             0   \n",
              "119580      6   19          25          24186.0      35.50             0   \n",
              "807974      6   19          25          24186.0      69.00             0   \n",
              "\n",
              "        Sales  \n",
              "284584   5032  \n",
              "417104   7362  \n",
              "875290   7764  \n",
              "119580   7964  \n",
              "807974   7776  \n",
              "\n",
              "[5 rows x 21 columns]"
            ]
          },
          "execution_count": 40,
          "metadata": {},
          "output_type": "execute_result"
        }
      ],
      "source": [
        "train_data.head()"
      ]
    },
    {
      "cell_type": "code",
      "execution_count": null,
      "metadata": {
        "id": "pM_1rzMu3YJH"
      },
      "outputs": [],
      "source": [
        "# compression_out = dict(method='zip', archive_name = 'train_out.csv')\n",
        "\n",
        "train_data_processed.to_csv('train_out.csv')\n"
      ]
    },
    {
      "cell_type": "code",
      "execution_count": null,
      "metadata": {
        "id": "vDLpt8Or3YJH"
      },
      "outputs": [],
      "source": [
        "test_data_processed.to_csv('test_out.csv')"
      ]
    },
    {
      "cell_type": "code",
      "execution_count": null,
      "metadata": {
        "id": "B3cxw5fo3YJH"
      },
      "outputs": [],
      "source": [
        "valid_data_processed.to_csv('valid_out.csv')"
      ]
    },
    {
      "cell_type": "code",
      "source": [
        "url = \"https://raw.githubusercontent.com/Charliebond125/CE889_Group_Project/main/train_out.csv\"\n",
        "\n",
        "#https://github.com/Charliebond125/CE889_Group_Project/blob/7811c5490255fc0982b50d7fcfaa367908e01776/test_out.csv\n",
        "\n",
        "test_train = pd.read_csv(url)"
      ],
      "metadata": {
        "id": "cpTt5EXd4csj"
      },
      "execution_count": 32,
      "outputs": []
    },
    {
      "cell_type": "code",
      "source": [
        "test_train.head()\n",
        "\n",
        "# unamed: 0 = store ID. Data has been shuffled"
      ],
      "metadata": {
        "colab": {
          "base_uri": "https://localhost:8080/",
          "height": 317
        },
        "id": "xnT1gLUL_Lad",
        "outputId": "eee077e7-025a-4e94-c4c1-a337d2a351ff"
      },
      "execution_count": 33,
      "outputs": [
        {
          "output_type": "execute_result",
          "data": {
            "text/plain": [
              "   Unnamed: 0  Store  DayOfWeek  Promo  StateHoliday  SchoolHoliday  \\\n",
              "0      284584    314          5      1             0              0   \n",
              "1      417104    458          5      1             0              0   \n",
              "2      875290    961          5      1             0              0   \n",
              "3      119580    132          5      1             0              0   \n",
              "4      807974    887          5      1             0              0   \n",
              "\n",
              "   StoreType  Assortment  CompetitionDistance  CompetitionOpenSinceMonth  ...  \\\n",
              "0          1           1               3560.0                       10.0  ...   \n",
              "1          3           1               3390.0                        0.0  ...   \n",
              "2          4           3               9430.0                        0.0  ...   \n",
              "3          4           3               1040.0                        0.0  ...   \n",
              "4          4           1              19700.0                        0.0  ...   \n",
              "\n",
              "   Promo2SinceWeek  Promo2SinceYear  Year  Month  Day  WeekOfYear  \\\n",
              "0             31.0           2013.0  2015      6   19          25   \n",
              "1              0.0              0.0  2015      6   19          25   \n",
              "2              0.0              0.0  2015      6   19          25   \n",
              "3             27.0           2012.0  2015      6   19          25   \n",
              "4             37.0           2009.0  2015      6   19          25   \n",
              "\n",
              "   CompetitionOpen  PromoOpen  IsPromoMonth  Sales  \n",
              "0            164.0      22.50             0   5032  \n",
              "1          24186.0   24186.25             0   7362  \n",
              "2          24186.0   24186.25             0   7764  \n",
              "3          24186.0      35.50             0   7964  \n",
              "4          24186.0      69.00             0   7776  \n",
              "\n",
              "[5 rows x 22 columns]"
            ],
            "text/html": [
              "\n",
              "  <div id=\"df-82463101-6fd9-41b1-bf68-097582f9247a\">\n",
              "    <div class=\"colab-df-container\">\n",
              "      <div>\n",
              "<style scoped>\n",
              "    .dataframe tbody tr th:only-of-type {\n",
              "        vertical-align: middle;\n",
              "    }\n",
              "\n",
              "    .dataframe tbody tr th {\n",
              "        vertical-align: top;\n",
              "    }\n",
              "\n",
              "    .dataframe thead th {\n",
              "        text-align: right;\n",
              "    }\n",
              "</style>\n",
              "<table border=\"1\" class=\"dataframe\">\n",
              "  <thead>\n",
              "    <tr style=\"text-align: right;\">\n",
              "      <th></th>\n",
              "      <th>Unnamed: 0</th>\n",
              "      <th>Store</th>\n",
              "      <th>DayOfWeek</th>\n",
              "      <th>Promo</th>\n",
              "      <th>StateHoliday</th>\n",
              "      <th>SchoolHoliday</th>\n",
              "      <th>StoreType</th>\n",
              "      <th>Assortment</th>\n",
              "      <th>CompetitionDistance</th>\n",
              "      <th>CompetitionOpenSinceMonth</th>\n",
              "      <th>...</th>\n",
              "      <th>Promo2SinceWeek</th>\n",
              "      <th>Promo2SinceYear</th>\n",
              "      <th>Year</th>\n",
              "      <th>Month</th>\n",
              "      <th>Day</th>\n",
              "      <th>WeekOfYear</th>\n",
              "      <th>CompetitionOpen</th>\n",
              "      <th>PromoOpen</th>\n",
              "      <th>IsPromoMonth</th>\n",
              "      <th>Sales</th>\n",
              "    </tr>\n",
              "  </thead>\n",
              "  <tbody>\n",
              "    <tr>\n",
              "      <th>0</th>\n",
              "      <td>284584</td>\n",
              "      <td>314</td>\n",
              "      <td>5</td>\n",
              "      <td>1</td>\n",
              "      <td>0</td>\n",
              "      <td>0</td>\n",
              "      <td>1</td>\n",
              "      <td>1</td>\n",
              "      <td>3560.0</td>\n",
              "      <td>10.0</td>\n",
              "      <td>...</td>\n",
              "      <td>31.0</td>\n",
              "      <td>2013.0</td>\n",
              "      <td>2015</td>\n",
              "      <td>6</td>\n",
              "      <td>19</td>\n",
              "      <td>25</td>\n",
              "      <td>164.0</td>\n",
              "      <td>22.50</td>\n",
              "      <td>0</td>\n",
              "      <td>5032</td>\n",
              "    </tr>\n",
              "    <tr>\n",
              "      <th>1</th>\n",
              "      <td>417104</td>\n",
              "      <td>458</td>\n",
              "      <td>5</td>\n",
              "      <td>1</td>\n",
              "      <td>0</td>\n",
              "      <td>0</td>\n",
              "      <td>3</td>\n",
              "      <td>1</td>\n",
              "      <td>3390.0</td>\n",
              "      <td>0.0</td>\n",
              "      <td>...</td>\n",
              "      <td>0.0</td>\n",
              "      <td>0.0</td>\n",
              "      <td>2015</td>\n",
              "      <td>6</td>\n",
              "      <td>19</td>\n",
              "      <td>25</td>\n",
              "      <td>24186.0</td>\n",
              "      <td>24186.25</td>\n",
              "      <td>0</td>\n",
              "      <td>7362</td>\n",
              "    </tr>\n",
              "    <tr>\n",
              "      <th>2</th>\n",
              "      <td>875290</td>\n",
              "      <td>961</td>\n",
              "      <td>5</td>\n",
              "      <td>1</td>\n",
              "      <td>0</td>\n",
              "      <td>0</td>\n",
              "      <td>4</td>\n",
              "      <td>3</td>\n",
              "      <td>9430.0</td>\n",
              "      <td>0.0</td>\n",
              "      <td>...</td>\n",
              "      <td>0.0</td>\n",
              "      <td>0.0</td>\n",
              "      <td>2015</td>\n",
              "      <td>6</td>\n",
              "      <td>19</td>\n",
              "      <td>25</td>\n",
              "      <td>24186.0</td>\n",
              "      <td>24186.25</td>\n",
              "      <td>0</td>\n",
              "      <td>7764</td>\n",
              "    </tr>\n",
              "    <tr>\n",
              "      <th>3</th>\n",
              "      <td>119580</td>\n",
              "      <td>132</td>\n",
              "      <td>5</td>\n",
              "      <td>1</td>\n",
              "      <td>0</td>\n",
              "      <td>0</td>\n",
              "      <td>4</td>\n",
              "      <td>3</td>\n",
              "      <td>1040.0</td>\n",
              "      <td>0.0</td>\n",
              "      <td>...</td>\n",
              "      <td>27.0</td>\n",
              "      <td>2012.0</td>\n",
              "      <td>2015</td>\n",
              "      <td>6</td>\n",
              "      <td>19</td>\n",
              "      <td>25</td>\n",
              "      <td>24186.0</td>\n",
              "      <td>35.50</td>\n",
              "      <td>0</td>\n",
              "      <td>7964</td>\n",
              "    </tr>\n",
              "    <tr>\n",
              "      <th>4</th>\n",
              "      <td>807974</td>\n",
              "      <td>887</td>\n",
              "      <td>5</td>\n",
              "      <td>1</td>\n",
              "      <td>0</td>\n",
              "      <td>0</td>\n",
              "      <td>4</td>\n",
              "      <td>1</td>\n",
              "      <td>19700.0</td>\n",
              "      <td>0.0</td>\n",
              "      <td>...</td>\n",
              "      <td>37.0</td>\n",
              "      <td>2009.0</td>\n",
              "      <td>2015</td>\n",
              "      <td>6</td>\n",
              "      <td>19</td>\n",
              "      <td>25</td>\n",
              "      <td>24186.0</td>\n",
              "      <td>69.00</td>\n",
              "      <td>0</td>\n",
              "      <td>7776</td>\n",
              "    </tr>\n",
              "  </tbody>\n",
              "</table>\n",
              "<p>5 rows × 22 columns</p>\n",
              "</div>\n",
              "      <button class=\"colab-df-convert\" onclick=\"convertToInteractive('df-82463101-6fd9-41b1-bf68-097582f9247a')\"\n",
              "              title=\"Convert this dataframe to an interactive table.\"\n",
              "              style=\"display:none;\">\n",
              "        \n",
              "  <svg xmlns=\"http://www.w3.org/2000/svg\" height=\"24px\"viewBox=\"0 0 24 24\"\n",
              "       width=\"24px\">\n",
              "    <path d=\"M0 0h24v24H0V0z\" fill=\"none\"/>\n",
              "    <path d=\"M18.56 5.44l.94 2.06.94-2.06 2.06-.94-2.06-.94-.94-2.06-.94 2.06-2.06.94zm-11 1L8.5 8.5l.94-2.06 2.06-.94-2.06-.94L8.5 2.5l-.94 2.06-2.06.94zm10 10l.94 2.06.94-2.06 2.06-.94-2.06-.94-.94-2.06-.94 2.06-2.06.94z\"/><path d=\"M17.41 7.96l-1.37-1.37c-.4-.4-.92-.59-1.43-.59-.52 0-1.04.2-1.43.59L10.3 9.45l-7.72 7.72c-.78.78-.78 2.05 0 2.83L4 21.41c.39.39.9.59 1.41.59.51 0 1.02-.2 1.41-.59l7.78-7.78 2.81-2.81c.8-.78.8-2.07 0-2.86zM5.41 20L4 18.59l7.72-7.72 1.47 1.35L5.41 20z\"/>\n",
              "  </svg>\n",
              "      </button>\n",
              "      \n",
              "  <style>\n",
              "    .colab-df-container {\n",
              "      display:flex;\n",
              "      flex-wrap:wrap;\n",
              "      gap: 12px;\n",
              "    }\n",
              "\n",
              "    .colab-df-convert {\n",
              "      background-color: #E8F0FE;\n",
              "      border: none;\n",
              "      border-radius: 50%;\n",
              "      cursor: pointer;\n",
              "      display: none;\n",
              "      fill: #1967D2;\n",
              "      height: 32px;\n",
              "      padding: 0 0 0 0;\n",
              "      width: 32px;\n",
              "    }\n",
              "\n",
              "    .colab-df-convert:hover {\n",
              "      background-color: #E2EBFA;\n",
              "      box-shadow: 0px 1px 2px rgba(60, 64, 67, 0.3), 0px 1px 3px 1px rgba(60, 64, 67, 0.15);\n",
              "      fill: #174EA6;\n",
              "    }\n",
              "\n",
              "    [theme=dark] .colab-df-convert {\n",
              "      background-color: #3B4455;\n",
              "      fill: #D2E3FC;\n",
              "    }\n",
              "\n",
              "    [theme=dark] .colab-df-convert:hover {\n",
              "      background-color: #434B5C;\n",
              "      box-shadow: 0px 1px 3px 1px rgba(0, 0, 0, 0.15);\n",
              "      filter: drop-shadow(0px 1px 2px rgba(0, 0, 0, 0.3));\n",
              "      fill: #FFFFFF;\n",
              "    }\n",
              "  </style>\n",
              "\n",
              "      <script>\n",
              "        const buttonEl =\n",
              "          document.querySelector('#df-82463101-6fd9-41b1-bf68-097582f9247a button.colab-df-convert');\n",
              "        buttonEl.style.display =\n",
              "          google.colab.kernel.accessAllowed ? 'block' : 'none';\n",
              "\n",
              "        async function convertToInteractive(key) {\n",
              "          const element = document.querySelector('#df-82463101-6fd9-41b1-bf68-097582f9247a');\n",
              "          const dataTable =\n",
              "            await google.colab.kernel.invokeFunction('convertToInteractive',\n",
              "                                                     [key], {});\n",
              "          if (!dataTable) return;\n",
              "\n",
              "          const docLinkHtml = 'Like what you see? Visit the ' +\n",
              "            '<a target=\"_blank\" href=https://colab.research.google.com/notebooks/data_table.ipynb>data table notebook</a>'\n",
              "            + ' to learn more about interactive tables.';\n",
              "          element.innerHTML = '';\n",
              "          dataTable['output_type'] = 'display_data';\n",
              "          await google.colab.output.renderOutput(dataTable, element);\n",
              "          const docLink = document.createElement('div');\n",
              "          docLink.innerHTML = docLinkHtml;\n",
              "          element.appendChild(docLink);\n",
              "        }\n",
              "      </script>\n",
              "    </div>\n",
              "  </div>\n",
              "  "
            ]
          },
          "metadata": {},
          "execution_count": 33
        }
      ]
    },
    {
      "cell_type": "code",
      "source": [
        "from sklearn.preprocessing import StandardScaler\n",
        "\n",
        "scaler = StandardScaler()\n",
        "\n",
        "scaler.fit(train)"
      ],
      "metadata": {
        "colab": {
          "base_uri": "https://localhost:8080/"
        },
        "id": "PJmU-hAMAOtj",
        "outputId": "b1f9551d-ac9a-4119-96cc-3f8f56425639"
      },
      "execution_count": 38,
      "outputs": [
        {
          "output_type": "execute_result",
          "data": {
            "text/plain": [
              "StandardScaler()"
            ]
          },
          "metadata": {},
          "execution_count": 38
        }
      ]
    },
    {
      "cell_type": "code",
      "source": [
        "scaler.transform(train)"
      ],
      "metadata": {
        "colab": {
          "base_uri": "https://localhost:8080/"
        },
        "id": "DGTF8DQJAVaz",
        "outputId": "3ec97d99-880b-4b55-c154-a2aac8d3b291"
      },
      "execution_count": 39,
      "outputs": [
        {
          "output_type": "execute_result",
          "data": {
            "text/plain": [
              "array([[-0.75976979,  0.858232  ,  1.11013958, ..., -1.00414278,\n",
              "        -0.4495676 , -0.65489785],\n",
              "       [-0.31218881,  0.858232  ,  1.11013958, ...,  0.99735462,\n",
              "        -0.4495676 ,  0.17193602],\n",
              "       [ 1.25123643,  0.858232  ,  1.11013958, ...,  0.99735462,\n",
              "        -0.4495676 ,  0.31459148],\n",
              "       ...,\n",
              "       [-0.88409784, -0.8820532 , -0.90078763, ..., -1.00600646,\n",
              "         2.22435961, -1.339786  ],\n",
              "       [-0.93072086, -0.8820532 , -0.90078763, ...,  0.9948697 ,\n",
              "        -0.4495676 , -0.00939965],\n",
              "       [-0.92139626, -0.8820532 , -0.90078763, ...,  0.9948697 ,\n",
              "        -0.4495676 ,  2.75818722]])"
            ]
          },
          "metadata": {},
          "execution_count": 39
        }
      ]
    },
    {
      "cell_type": "code",
      "source": [
        "scaler.mean_"
      ],
      "metadata": {
        "colab": {
          "base_uri": "https://localhost:8080/"
        },
        "id": "Pk_5vEeBAd5F",
        "outputId": "72928f65-b623-42b7-d6d4-ff65379ed5c2"
      },
      "execution_count": 41,
      "outputs": [
        {
          "output_type": "execute_result",
          "data": {
            "text/plain": [
              "array([5.58440345e+02, 3.52053215e+00, 4.47946412e-01, 1.48870228e-03,\n",
              "       1.86729531e-01, 2.20488125e+00, 1.93681162e+00, 5.44503651e+03,\n",
              "       4.92620663e+00, 1.36965231e+03, 4.98054862e-01, 1.15737561e+01,\n",
              "       1.00196351e+03, 2.01377343e+03, 5.80050270e+00, 1.57105911e+01,\n",
              "       2.34124116e+01, 7.73125688e+03, 1.21453511e+04, 1.68130080e-01,\n",
              "       6.87748800e+03])"
            ]
          },
          "metadata": {},
          "execution_count": 41
        }
      ]
    },
    {
      "cell_type": "code",
      "source": [
        "scaler.fit_transform(valid)"
      ],
      "metadata": {
        "colab": {
          "base_uri": "https://localhost:8080/"
        },
        "id": "Q4dASd55Fzu0",
        "outputId": "720a6adb-96db-4af2-8b70-271bb8d46484"
      },
      "execution_count": 62,
      "outputs": [
        {
          "output_type": "execute_result",
          "data": {
            "text/plain": [
              "array([[-1.73126858,  0.86196377,  1.1882556 , ...,  1.02219536,\n",
              "        -0.57568767, -0.5910642 ],\n",
              "       [ 0.58727246,  0.86196377,  1.1882556 , ...,  1.02219536,\n",
              "        -0.57568767,  1.36622469],\n",
              "       [ 0.66497156,  0.86196377,  1.1882556 , ...,  1.02219536,\n",
              "        -0.57568767, -0.60508335],\n",
              "       ...,\n",
              "       [-1.33034124,  1.44307883, -0.84156977, ..., -0.97643242,\n",
              "        -0.57568767, -0.93075897],\n",
              "       [ 1.49790588,  1.44307883, -0.84156977, ..., -0.98034688,\n",
              "        -0.57568767,  0.04339216],\n",
              "       [-0.75847589,  1.44307883, -0.84156977, ..., -0.97978767,\n",
              "        -0.57568767, -1.38943677]])"
            ]
          },
          "metadata": {},
          "execution_count": 62
        }
      ]
    },
    {
      "cell_type": "code",
      "source": [
        "scaler.fit_transform(test)"
      ],
      "metadata": {
        "colab": {
          "base_uri": "https://localhost:8080/"
        },
        "id": "TYkUIkOeF2Zx",
        "outputId": "77e957a1-9e12-43c2-e895-ae80727d6dd8"
      },
      "execution_count": 64,
      "outputs": [
        {
          "output_type": "execute_result",
          "data": {
            "text/plain": [
              "array([[-1.73259592,  0.01033678,  1.23544154, ..., -0.76633345,\n",
              "         1.17667518, -0.38215815],\n",
              "       [-1.73259592, -0.48582866,  1.23544154, ..., -0.76633345,\n",
              "         1.17667518, -0.38215815],\n",
              "       [-1.73259592, -0.98199411,  1.23544154, ..., -0.76633345,\n",
              "         1.17667518, -0.38215815],\n",
              "       ...,\n",
              "       [ 1.74571275, -1.47815955,  1.23544154, ...,  1.30391053,\n",
              "        -0.8500866 , -0.38215815],\n",
              "       [ 1.74571275,  1.49883311, -0.80942721, ...,  1.30391053,\n",
              "        -0.85010758, -0.38215815],\n",
              "       [ 1.74571275,  1.00266767, -0.80942721, ...,  1.30391053,\n",
              "        -0.85010758, -0.38215815]])"
            ]
          },
          "metadata": {},
          "execution_count": 64
        }
      ]
    },
    {
      "cell_type": "code",
      "source": [
        "def add_missing_dummy_columns( d, columns ):\n",
        "        missing_cols = set( columns ) - set( d.columns )\n",
        "        for c in missing_cols:\n",
        "            d[c] = 0\n",
        "\n",
        "def fix_columns( d, columns ):  \n",
        "\n",
        "    add_missing_dummy_columns( d, columns )\n",
        "\n",
        "    # make sure we have all the columns we need\n",
        "    assert( set( columns ) - set( d.columns ) == set())\n",
        "\n",
        "    extra_cols = set( d.columns ) - set( columns )\n",
        "    if extra_cols: print (\"extra columns:\", extra_cols)\n",
        "\n",
        "    d = d[ columns ]\n",
        "    return d\n",
        "\n",
        "testFeatures= fix_columns(valid, train.columns)"
      ],
      "metadata": {
        "id": "fHbovdDBF7vO"
      },
      "execution_count": 65,
      "outputs": []
    },
    {
      "cell_type": "code",
      "source": [
        "def add_missing_columns( d, columns ):\n",
        "        missing_cols = set( columns ) - set( d.columns )\n",
        "        for c in missing_cols:\n",
        "            d[c] = 0\n",
        "\n",
        "def fix_columns( d, columns ):  \n",
        "\n",
        "    add_missing_dummy_columns( d, columns )\n",
        "\n",
        "    # make sure we have all the columns we need\n",
        "    assert( set( columns ) - set( d.columns ) == set())\n",
        "\n",
        "    extra_cols = set( d.columns ) - set( columns )\n",
        "    if extra_cols: print (\"extra columns:\", extra_cols)\n",
        "\n",
        "    d = d[ columns ]\n",
        "    return d\n",
        "\n",
        "testFeatures= fix_columns(test, train.columns)"
      ],
      "metadata": {
        "id": "Q1HvixgrGoY2"
      },
      "execution_count": 67,
      "outputs": []
    },
    {
      "cell_type": "code",
      "source": [
        "print(train.shape)\n",
        "print(valid.shape)"
      ],
      "metadata": {
        "colab": {
          "base_uri": "https://localhost:8080/"
        },
        "id": "YpFDJDuvDLg-",
        "outputId": "252d04f6-2e3d-40c9-f573-d670f38688bb"
      },
      "execution_count": 66,
      "outputs": [
        {
          "output_type": "stream",
          "name": "stdout",
          "text": [
            "(804056, 21)\n",
            "(40282, 21)\n"
          ]
        }
      ]
    },
    {
      "cell_type": "code",
      "source": [
        "print(train.shape)\n",
        "print(test.shape)"
      ],
      "metadata": {
        "colab": {
          "base_uri": "https://localhost:8080/"
        },
        "id": "RgrYS-a_GtxH",
        "outputId": "c55dfa61-f12d-476e-9c41-4e1d603288ff"
      },
      "execution_count": 68,
      "outputs": [
        {
          "output_type": "stream",
          "name": "stdout",
          "text": [
            "(804056, 21)\n",
            "(41088, 21)\n"
          ]
        }
      ]
    },
    {
      "cell_type": "code",
      "source": [
        "train_copy = train\n",
        "test_copy = test\n",
        "valid_copy = valid"
      ],
      "metadata": {
        "id": "-pb_I-O_DTkU"
      },
      "execution_count": 69,
      "outputs": []
    },
    {
      "cell_type": "code",
      "source": [
        "test.columns.tolist()"
      ],
      "metadata": {
        "colab": {
          "base_uri": "https://localhost:8080/"
        },
        "id": "BPUVhJ-_DX3V",
        "outputId": "861712dd-7049-41a4-8966-034c9ee8758d"
      },
      "execution_count": 70,
      "outputs": [
        {
          "output_type": "execute_result",
          "data": {
            "text/plain": [
              "['Store',\n",
              " 'DayOfWeek',\n",
              " 'Promo',\n",
              " 'StateHoliday',\n",
              " 'SchoolHoliday',\n",
              " 'StoreType',\n",
              " 'Assortment',\n",
              " 'CompetitionDistance',\n",
              " 'CompetitionOpenSinceMonth',\n",
              " 'CompetitionOpenSinceYear',\n",
              " 'Promo2',\n",
              " 'Promo2SinceWeek',\n",
              " 'Promo2SinceYear',\n",
              " 'Year',\n",
              " 'Month',\n",
              " 'Day',\n",
              " 'WeekOfYear',\n",
              " 'CompetitionOpen',\n",
              " 'PromoOpen',\n",
              " 'IsPromoMonth',\n",
              " 'Sales']"
            ]
          },
          "metadata": {},
          "execution_count": 70
        }
      ]
    },
    {
      "cell_type": "code",
      "source": [
        "train.columns.tolist()"
      ],
      "metadata": {
        "colab": {
          "base_uri": "https://localhost:8080/"
        },
        "id": "Tt5UgLqaD0a4",
        "outputId": "38a07288-d3ff-46eb-be4f-a02f738b294e"
      },
      "execution_count": 71,
      "outputs": [
        {
          "output_type": "execute_result",
          "data": {
            "text/plain": [
              "['Store',\n",
              " 'DayOfWeek',\n",
              " 'Promo',\n",
              " 'StateHoliday',\n",
              " 'SchoolHoliday',\n",
              " 'StoreType',\n",
              " 'Assortment',\n",
              " 'CompetitionDistance',\n",
              " 'CompetitionOpenSinceMonth',\n",
              " 'CompetitionOpenSinceYear',\n",
              " 'Promo2',\n",
              " 'Promo2SinceWeek',\n",
              " 'Promo2SinceYear',\n",
              " 'Year',\n",
              " 'Month',\n",
              " 'Day',\n",
              " 'WeekOfYear',\n",
              " 'CompetitionOpen',\n",
              " 'PromoOpen',\n",
              " 'IsPromoMonth',\n",
              " 'Sales']"
            ]
          },
          "metadata": {},
          "execution_count": 71
        }
      ]
    },
    {
      "cell_type": "code",
      "source": [
        "valid.columns.tolist()"
      ],
      "metadata": {
        "colab": {
          "base_uri": "https://localhost:8080/"
        },
        "id": "NFwSOAimD6vs",
        "outputId": "150e3689-0315-4e58-dd1e-b4d65e751aae"
      },
      "execution_count": 72,
      "outputs": [
        {
          "output_type": "execute_result",
          "data": {
            "text/plain": [
              "['Store',\n",
              " 'DayOfWeek',\n",
              " 'Promo',\n",
              " 'StateHoliday',\n",
              " 'SchoolHoliday',\n",
              " 'StoreType',\n",
              " 'Assortment',\n",
              " 'CompetitionDistance',\n",
              " 'CompetitionOpenSinceMonth',\n",
              " 'CompetitionOpenSinceYear',\n",
              " 'Promo2',\n",
              " 'Promo2SinceWeek',\n",
              " 'Promo2SinceYear',\n",
              " 'Year',\n",
              " 'Month',\n",
              " 'Day',\n",
              " 'WeekOfYear',\n",
              " 'CompetitionOpen',\n",
              " 'PromoOpen',\n",
              " 'IsPromoMonth',\n",
              " 'Sales']"
            ]
          },
          "metadata": {},
          "execution_count": 72
        }
      ]
    },
    {
      "cell_type": "code",
      "source": [
        "from sklearn.model_selection import train_test_split\n",
        "\n"
      ],
      "metadata": {
        "id": "qGKiWLPLLmbK"
      },
      "execution_count": null,
      "outputs": []
    },
    {
      "cell_type": "code",
      "source": [
        "target = ['Sales']\n",
        "\n",
        "y_train = train[target]\n",
        "y_test = valid[target]\n"
      ],
      "metadata": {
        "id": "ImAx-6nFIa-r"
      },
      "execution_count": 80,
      "outputs": []
    },
    {
      "cell_type": "code",
      "source": [
        "features = [20]"
      ],
      "metadata": {
        "id": "B2kJ7jtXKj9z"
      },
      "execution_count": 87,
      "outputs": []
    },
    {
      "cell_type": "code",
      "source": [
        "X_train = train\n",
        "X_test = train"
      ],
      "metadata": {
        "id": "-wuyqS4UJKv5"
      },
      "execution_count": 97,
      "outputs": []
    },
    {
      "cell_type": "code",
      "source": [
        "train_copy = train.drop(['Sales'], axis=1)"
      ],
      "metadata": {
        "id": "xQk2p4QzK0xY"
      },
      "execution_count": 95,
      "outputs": []
    },
    {
      "cell_type": "code",
      "source": [
        "train_copy.shape"
      ],
      "metadata": {
        "colab": {
          "base_uri": "https://localhost:8080/"
        },
        "id": "G6S4yTtUK8I5",
        "outputId": "7e3687fc-1b30-4389-d6bc-fa57c79c3c02"
      },
      "execution_count": 96,
      "outputs": [
        {
          "output_type": "execute_result",
          "data": {
            "text/plain": [
              "(804056, 20)"
            ]
          },
          "metadata": {},
          "execution_count": 96
        }
      ]
    },
    {
      "cell_type": "code",
      "source": [],
      "metadata": {
        "id": "Iri-zxMCK8OY"
      },
      "execution_count": null,
      "outputs": []
    },
    {
      "cell_type": "code",
      "source": [
        "y_train.head()"
      ],
      "metadata": {
        "colab": {
          "base_uri": "https://localhost:8080/",
          "height": 206
        },
        "id": "9EKZxwAkIcZB",
        "outputId": "f394b9d3-2d66-4083-b541-de9afbddde23"
      },
      "execution_count": 81,
      "outputs": [
        {
          "output_type": "execute_result",
          "data": {
            "text/plain": [
              "        Sales\n",
              "284584   5032\n",
              "417104   7362\n",
              "875290   7764\n",
              "119580   7964\n",
              "807974   7776"
            ],
            "text/html": [
              "\n",
              "  <div id=\"df-648e0ab1-456a-499f-a894-3d5c8782e8d1\">\n",
              "    <div class=\"colab-df-container\">\n",
              "      <div>\n",
              "<style scoped>\n",
              "    .dataframe tbody tr th:only-of-type {\n",
              "        vertical-align: middle;\n",
              "    }\n",
              "\n",
              "    .dataframe tbody tr th {\n",
              "        vertical-align: top;\n",
              "    }\n",
              "\n",
              "    .dataframe thead th {\n",
              "        text-align: right;\n",
              "    }\n",
              "</style>\n",
              "<table border=\"1\" class=\"dataframe\">\n",
              "  <thead>\n",
              "    <tr style=\"text-align: right;\">\n",
              "      <th></th>\n",
              "      <th>Sales</th>\n",
              "    </tr>\n",
              "  </thead>\n",
              "  <tbody>\n",
              "    <tr>\n",
              "      <th>284584</th>\n",
              "      <td>5032</td>\n",
              "    </tr>\n",
              "    <tr>\n",
              "      <th>417104</th>\n",
              "      <td>7362</td>\n",
              "    </tr>\n",
              "    <tr>\n",
              "      <th>875290</th>\n",
              "      <td>7764</td>\n",
              "    </tr>\n",
              "    <tr>\n",
              "      <th>119580</th>\n",
              "      <td>7964</td>\n",
              "    </tr>\n",
              "    <tr>\n",
              "      <th>807974</th>\n",
              "      <td>7776</td>\n",
              "    </tr>\n",
              "  </tbody>\n",
              "</table>\n",
              "</div>\n",
              "      <button class=\"colab-df-convert\" onclick=\"convertToInteractive('df-648e0ab1-456a-499f-a894-3d5c8782e8d1')\"\n",
              "              title=\"Convert this dataframe to an interactive table.\"\n",
              "              style=\"display:none;\">\n",
              "        \n",
              "  <svg xmlns=\"http://www.w3.org/2000/svg\" height=\"24px\"viewBox=\"0 0 24 24\"\n",
              "       width=\"24px\">\n",
              "    <path d=\"M0 0h24v24H0V0z\" fill=\"none\"/>\n",
              "    <path d=\"M18.56 5.44l.94 2.06.94-2.06 2.06-.94-2.06-.94-.94-2.06-.94 2.06-2.06.94zm-11 1L8.5 8.5l.94-2.06 2.06-.94-2.06-.94L8.5 2.5l-.94 2.06-2.06.94zm10 10l.94 2.06.94-2.06 2.06-.94-2.06-.94-.94-2.06-.94 2.06-2.06.94z\"/><path d=\"M17.41 7.96l-1.37-1.37c-.4-.4-.92-.59-1.43-.59-.52 0-1.04.2-1.43.59L10.3 9.45l-7.72 7.72c-.78.78-.78 2.05 0 2.83L4 21.41c.39.39.9.59 1.41.59.51 0 1.02-.2 1.41-.59l7.78-7.78 2.81-2.81c.8-.78.8-2.07 0-2.86zM5.41 20L4 18.59l7.72-7.72 1.47 1.35L5.41 20z\"/>\n",
              "  </svg>\n",
              "      </button>\n",
              "      \n",
              "  <style>\n",
              "    .colab-df-container {\n",
              "      display:flex;\n",
              "      flex-wrap:wrap;\n",
              "      gap: 12px;\n",
              "    }\n",
              "\n",
              "    .colab-df-convert {\n",
              "      background-color: #E8F0FE;\n",
              "      border: none;\n",
              "      border-radius: 50%;\n",
              "      cursor: pointer;\n",
              "      display: none;\n",
              "      fill: #1967D2;\n",
              "      height: 32px;\n",
              "      padding: 0 0 0 0;\n",
              "      width: 32px;\n",
              "    }\n",
              "\n",
              "    .colab-df-convert:hover {\n",
              "      background-color: #E2EBFA;\n",
              "      box-shadow: 0px 1px 2px rgba(60, 64, 67, 0.3), 0px 1px 3px 1px rgba(60, 64, 67, 0.15);\n",
              "      fill: #174EA6;\n",
              "    }\n",
              "\n",
              "    [theme=dark] .colab-df-convert {\n",
              "      background-color: #3B4455;\n",
              "      fill: #D2E3FC;\n",
              "    }\n",
              "\n",
              "    [theme=dark] .colab-df-convert:hover {\n",
              "      background-color: #434B5C;\n",
              "      box-shadow: 0px 1px 3px 1px rgba(0, 0, 0, 0.15);\n",
              "      filter: drop-shadow(0px 1px 2px rgba(0, 0, 0, 0.3));\n",
              "      fill: #FFFFFF;\n",
              "    }\n",
              "  </style>\n",
              "\n",
              "      <script>\n",
              "        const buttonEl =\n",
              "          document.querySelector('#df-648e0ab1-456a-499f-a894-3d5c8782e8d1 button.colab-df-convert');\n",
              "        buttonEl.style.display =\n",
              "          google.colab.kernel.accessAllowed ? 'block' : 'none';\n",
              "\n",
              "        async function convertToInteractive(key) {\n",
              "          const element = document.querySelector('#df-648e0ab1-456a-499f-a894-3d5c8782e8d1');\n",
              "          const dataTable =\n",
              "            await google.colab.kernel.invokeFunction('convertToInteractive',\n",
              "                                                     [key], {});\n",
              "          if (!dataTable) return;\n",
              "\n",
              "          const docLinkHtml = 'Like what you see? Visit the ' +\n",
              "            '<a target=\"_blank\" href=https://colab.research.google.com/notebooks/data_table.ipynb>data table notebook</a>'\n",
              "            + ' to learn more about interactive tables.';\n",
              "          element.innerHTML = '';\n",
              "          dataTable['output_type'] = 'display_data';\n",
              "          await google.colab.output.renderOutput(dataTable, element);\n",
              "          const docLink = document.createElement('div');\n",
              "          docLink.innerHTML = docLinkHtml;\n",
              "          element.appendChild(docLink);\n",
              "        }\n",
              "      </script>\n",
              "    </div>\n",
              "  </div>\n",
              "  "
            ]
          },
          "metadata": {},
          "execution_count": 81
        }
      ]
    },
    {
      "cell_type": "code",
      "source": [
        "y_test.head()"
      ],
      "metadata": {
        "colab": {
          "base_uri": "https://localhost:8080/",
          "height": 206
        },
        "id": "V2TBFBC9J36Y",
        "outputId": "1a1a977e-c5ee-4596-8f99-77a9dc91b5b6"
      },
      "execution_count": 82,
      "outputs": [
        {
          "output_type": "execute_result",
          "data": {
            "text/plain": [
              "        Sales\n",
              "0        5263\n",
              "679364  10708\n",
              "702362   5224\n",
              "683890   7763\n",
              "17714    9593"
            ],
            "text/html": [
              "\n",
              "  <div id=\"df-d2194850-b475-4669-ae32-8f1c02d5b4ee\">\n",
              "    <div class=\"colab-df-container\">\n",
              "      <div>\n",
              "<style scoped>\n",
              "    .dataframe tbody tr th:only-of-type {\n",
              "        vertical-align: middle;\n",
              "    }\n",
              "\n",
              "    .dataframe tbody tr th {\n",
              "        vertical-align: top;\n",
              "    }\n",
              "\n",
              "    .dataframe thead th {\n",
              "        text-align: right;\n",
              "    }\n",
              "</style>\n",
              "<table border=\"1\" class=\"dataframe\">\n",
              "  <thead>\n",
              "    <tr style=\"text-align: right;\">\n",
              "      <th></th>\n",
              "      <th>Sales</th>\n",
              "    </tr>\n",
              "  </thead>\n",
              "  <tbody>\n",
              "    <tr>\n",
              "      <th>0</th>\n",
              "      <td>5263</td>\n",
              "    </tr>\n",
              "    <tr>\n",
              "      <th>679364</th>\n",
              "      <td>10708</td>\n",
              "    </tr>\n",
              "    <tr>\n",
              "      <th>702362</th>\n",
              "      <td>5224</td>\n",
              "    </tr>\n",
              "    <tr>\n",
              "      <th>683890</th>\n",
              "      <td>7763</td>\n",
              "    </tr>\n",
              "    <tr>\n",
              "      <th>17714</th>\n",
              "      <td>9593</td>\n",
              "    </tr>\n",
              "  </tbody>\n",
              "</table>\n",
              "</div>\n",
              "      <button class=\"colab-df-convert\" onclick=\"convertToInteractive('df-d2194850-b475-4669-ae32-8f1c02d5b4ee')\"\n",
              "              title=\"Convert this dataframe to an interactive table.\"\n",
              "              style=\"display:none;\">\n",
              "        \n",
              "  <svg xmlns=\"http://www.w3.org/2000/svg\" height=\"24px\"viewBox=\"0 0 24 24\"\n",
              "       width=\"24px\">\n",
              "    <path d=\"M0 0h24v24H0V0z\" fill=\"none\"/>\n",
              "    <path d=\"M18.56 5.44l.94 2.06.94-2.06 2.06-.94-2.06-.94-.94-2.06-.94 2.06-2.06.94zm-11 1L8.5 8.5l.94-2.06 2.06-.94-2.06-.94L8.5 2.5l-.94 2.06-2.06.94zm10 10l.94 2.06.94-2.06 2.06-.94-2.06-.94-.94-2.06-.94 2.06-2.06.94z\"/><path d=\"M17.41 7.96l-1.37-1.37c-.4-.4-.92-.59-1.43-.59-.52 0-1.04.2-1.43.59L10.3 9.45l-7.72 7.72c-.78.78-.78 2.05 0 2.83L4 21.41c.39.39.9.59 1.41.59.51 0 1.02-.2 1.41-.59l7.78-7.78 2.81-2.81c.8-.78.8-2.07 0-2.86zM5.41 20L4 18.59l7.72-7.72 1.47 1.35L5.41 20z\"/>\n",
              "  </svg>\n",
              "      </button>\n",
              "      \n",
              "  <style>\n",
              "    .colab-df-container {\n",
              "      display:flex;\n",
              "      flex-wrap:wrap;\n",
              "      gap: 12px;\n",
              "    }\n",
              "\n",
              "    .colab-df-convert {\n",
              "      background-color: #E8F0FE;\n",
              "      border: none;\n",
              "      border-radius: 50%;\n",
              "      cursor: pointer;\n",
              "      display: none;\n",
              "      fill: #1967D2;\n",
              "      height: 32px;\n",
              "      padding: 0 0 0 0;\n",
              "      width: 32px;\n",
              "    }\n",
              "\n",
              "    .colab-df-convert:hover {\n",
              "      background-color: #E2EBFA;\n",
              "      box-shadow: 0px 1px 2px rgba(60, 64, 67, 0.3), 0px 1px 3px 1px rgba(60, 64, 67, 0.15);\n",
              "      fill: #174EA6;\n",
              "    }\n",
              "\n",
              "    [theme=dark] .colab-df-convert {\n",
              "      background-color: #3B4455;\n",
              "      fill: #D2E3FC;\n",
              "    }\n",
              "\n",
              "    [theme=dark] .colab-df-convert:hover {\n",
              "      background-color: #434B5C;\n",
              "      box-shadow: 0px 1px 3px 1px rgba(0, 0, 0, 0.15);\n",
              "      filter: drop-shadow(0px 1px 2px rgba(0, 0, 0, 0.3));\n",
              "      fill: #FFFFFF;\n",
              "    }\n",
              "  </style>\n",
              "\n",
              "      <script>\n",
              "        const buttonEl =\n",
              "          document.querySelector('#df-d2194850-b475-4669-ae32-8f1c02d5b4ee button.colab-df-convert');\n",
              "        buttonEl.style.display =\n",
              "          google.colab.kernel.accessAllowed ? 'block' : 'none';\n",
              "\n",
              "        async function convertToInteractive(key) {\n",
              "          const element = document.querySelector('#df-d2194850-b475-4669-ae32-8f1c02d5b4ee');\n",
              "          const dataTable =\n",
              "            await google.colab.kernel.invokeFunction('convertToInteractive',\n",
              "                                                     [key], {});\n",
              "          if (!dataTable) return;\n",
              "\n",
              "          const docLinkHtml = 'Like what you see? Visit the ' +\n",
              "            '<a target=\"_blank\" href=https://colab.research.google.com/notebooks/data_table.ipynb>data table notebook</a>'\n",
              "            + ' to learn more about interactive tables.';\n",
              "          element.innerHTML = '';\n",
              "          dataTable['output_type'] = 'display_data';\n",
              "          await google.colab.output.renderOutput(dataTable, element);\n",
              "          const docLink = document.createElement('div');\n",
              "          docLink.innerHTML = docLinkHtml;\n",
              "          element.appendChild(docLink);\n",
              "        }\n",
              "      </script>\n",
              "    </div>\n",
              "  </div>\n",
              "  "
            ]
          },
          "metadata": {},
          "execution_count": 82
        }
      ]
    }
  ],
  "metadata": {
    "kernelspec": {
      "display_name": "Python 3.9.12 ('base')",
      "language": "python",
      "name": "python3"
    },
    "language_info": {
      "codemirror_mode": {
        "name": "ipython",
        "version": 3
      },
      "file_extension": ".py",
      "mimetype": "text/x-python",
      "name": "python",
      "nbconvert_exporter": "python",
      "pygments_lexer": "ipython3",
      "version": "3.9.12"
    },
    "orig_nbformat": 4,
    "vscode": {
      "interpreter": {
        "hash": "c959f15a748ad89aae0df1ee3554d5e298f5112668e907d8509459ed68d86976"
      }
    },
    "colab": {
      "provenance": [],
      "include_colab_link": true
    }
  },
  "nbformat": 4,
  "nbformat_minor": 0
}