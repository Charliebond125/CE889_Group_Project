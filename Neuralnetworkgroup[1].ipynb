{
  "cells": [
    {
      "cell_type": "markdown",
      "metadata": {
        "id": "view-in-github",
        "colab_type": "text"
      },
      "source": [
        "<a href=\"https://colab.research.google.com/github/Charliebond125/CE889_Group_Project/blob/main/Neuralnetworkgroup%5B1%5D.ipynb\" target=\"_parent\"><img src=\"https://colab.research.google.com/assets/colab-badge.svg\" alt=\"Open In Colab\"/></a>"
      ]
    },
    {
      "cell_type": "code",
      "execution_count": null,
      "metadata": {
        "id": "tsBj5pIiDY6D",
        "outputId": "f2480f3d-71cf-4e61-d2b1-6c542208d8e7"
      },
      "outputs": [
        {
          "name": "stdout",
          "output_type": "stream",
          "text": [
            "Collecting tensorflow\n",
            "  Using cached tensorflow-2.11.0-cp38-cp38-win_amd64.whl (1.9 kB)\n",
            "Collecting tensorflow-intel==2.11.0; platform_system == \"Windows\"\n",
            "  Using cached tensorflow_intel-2.11.0-cp38-cp38-win_amd64.whl (266.3 MB)\n",
            "Requirement already satisfied: six>=1.12.0 in c:\\users\\hassan moin\\anaconda3\\lib\\site-packages (from tensorflow-intel==2.11.0; platform_system == \"Windows\"->tensorflow) (1.15.0)\n",
            "Requirement already satisfied: wrapt>=1.11.0 in c:\\users\\hassan moin\\anaconda3\\lib\\site-packages (from tensorflow-intel==2.11.0; platform_system == \"Windows\"->tensorflow) (1.11.2)\n",
            "Collecting tensorflow-estimator<2.12,>=2.11.0\n",
            "  Using cached tensorflow_estimator-2.11.0-py2.py3-none-any.whl (439 kB)\n",
            "Collecting termcolor>=1.1.0\n",
            "  Using cached termcolor-2.1.1-py3-none-any.whl (6.2 kB)\n",
            "Collecting tensorboard<2.12,>=2.11\n",
            "  Using cached tensorboard-2.11.0-py3-none-any.whl (6.0 MB)\n",
            "Requirement already satisfied: typing-extensions>=3.6.6 in c:\\users\\hassan moin\\anaconda3\\lib\\site-packages (from tensorflow-intel==2.11.0; platform_system == \"Windows\"->tensorflow) (3.7.4.3)\n",
            "Requirement already satisfied: keras<2.12,>=2.11.0 in c:\\users\\hassan moin\\anaconda3\\lib\\site-packages (from tensorflow-intel==2.11.0; platform_system == \"Windows\"->tensorflow) (2.11.0)\n",
            "Collecting astunparse>=1.6.0\n",
            "  Using cached astunparse-1.6.3-py2.py3-none-any.whl (12 kB)\n",
            "Requirement already satisfied: packaging in c:\\users\\hassan moin\\anaconda3\\lib\\site-packages (from tensorflow-intel==2.11.0; platform_system == \"Windows\"->tensorflow) (20.4)\n",
            "Collecting grpcio<2.0,>=1.24.3\n",
            "  Downloading grpcio-1.51.1-cp38-cp38-win_amd64.whl (3.7 MB)\n",
            "Collecting opt-einsum>=2.3.2\n",
            "  Using cached opt_einsum-3.3.0-py3-none-any.whl (65 kB)\n",
            "Collecting google-pasta>=0.1.1\n",
            "  Using cached google_pasta-0.2.0-py3-none-any.whl (57 kB)\n",
            "Collecting absl-py>=1.0.0\n",
            "  Using cached absl_py-1.3.0-py3-none-any.whl (124 kB)\n",
            "Collecting gast<=0.4.0,>=0.2.1\n",
            "  Using cached gast-0.4.0-py3-none-any.whl (9.8 kB)\n",
            "Requirement already satisfied: flatbuffers>=2.0 in c:\\users\\hassan moin\\anaconda3\\lib\\site-packages (from tensorflow-intel==2.11.0; platform_system == \"Windows\"->tensorflow) (22.11.23)\n",
            "Collecting protobuf<3.20,>=3.9.2\n",
            "  Using cached protobuf-3.19.6-cp38-cp38-win_amd64.whl (896 kB)\n",
            "Requirement already satisfied: h5py>=2.9.0 in c:\\users\\hassan moin\\anaconda3\\lib\\site-packages (from tensorflow-intel==2.11.0; platform_system == \"Windows\"->tensorflow) (2.10.0)\n",
            "Requirement already satisfied: numpy>=1.20 in c:\\users\\hassan moin\\anaconda3\\lib\\site-packages (from tensorflow-intel==2.11.0; platform_system == \"Windows\"->tensorflow) (1.23.5)\n",
            "Requirement already satisfied: libclang>=13.0.0 in c:\\users\\hassan moin\\anaconda3\\lib\\site-packages (from tensorflow-intel==2.11.0; platform_system == \"Windows\"->tensorflow) (14.0.6)\n",
            "Requirement already satisfied: setuptools in c:\\users\\hassan moin\\anaconda3\\lib\\site-packages (from tensorflow-intel==2.11.0; platform_system == \"Windows\"->tensorflow) (50.3.1.post20201107)\n",
            "Collecting tensorflow-io-gcs-filesystem>=0.23.1; platform_machine != \"arm64\" or platform_system != \"Darwin\"\n",
            "  Using cached tensorflow_io_gcs_filesystem-0.28.0-cp38-cp38-win_amd64.whl (1.5 MB)\n",
            "Requirement already satisfied: werkzeug>=1.0.1 in c:\\users\\hassan moin\\anaconda3\\lib\\site-packages (from tensorboard<2.12,>=2.11->tensorflow-intel==2.11.0; platform_system == \"Windows\"->tensorflow) (1.0.1)\n",
            "Collecting markdown>=2.6.8\n",
            "  Using cached Markdown-3.4.1-py3-none-any.whl (93 kB)\n",
            "Collecting google-auth<3,>=1.6.3\n",
            "  Downloading google_auth-2.15.0-py2.py3-none-any.whl (177 kB)\n",
            "Requirement already satisfied: requests<3,>=2.21.0 in c:\\users\\hassan moin\\anaconda3\\lib\\site-packages (from tensorboard<2.12,>=2.11->tensorflow-intel==2.11.0; platform_system == \"Windows\"->tensorflow) (2.24.0)\n",
            "Collecting tensorboard-data-server<0.7.0,>=0.6.0\n",
            "  Using cached tensorboard_data_server-0.6.1-py3-none-any.whl (2.4 kB)\n",
            "Collecting tensorboard-plugin-wit>=1.6.0\n",
            "  Using cached tensorboard_plugin_wit-1.8.1-py3-none-any.whl (781 kB)\n",
            "Requirement already satisfied: wheel>=0.26 in c:\\users\\hassan moin\\anaconda3\\lib\\site-packages (from tensorboard<2.12,>=2.11->tensorflow-intel==2.11.0; platform_system == \"Windows\"->tensorflow) (0.35.1)\n",
            "Collecting google-auth-oauthlib<0.5,>=0.4.1\n",
            "  Using cached google_auth_oauthlib-0.4.6-py2.py3-none-any.whl (18 kB)\n",
            "Requirement already satisfied: pyparsing>=2.0.2 in c:\\users\\hassan moin\\anaconda3\\lib\\site-packages (from packaging->tensorflow-intel==2.11.0; platform_system == \"Windows\"->tensorflow) (2.4.7)\n",
            "Collecting importlib-metadata>=4.4; python_version < \"3.10\"\n",
            "  Using cached importlib_metadata-5.1.0-py3-none-any.whl (21 kB)\n",
            "Collecting pyasn1-modules>=0.2.1\n",
            "  Using cached pyasn1_modules-0.2.8-py2.py3-none-any.whl (155 kB)\n",
            "Collecting rsa<5,>=3.1.4; python_version >= \"3.6\"\n",
            "  Using cached rsa-4.9-py3-none-any.whl (34 kB)\n",
            "Collecting cachetools<6.0,>=2.0.0\n",
            "  Using cached cachetools-5.2.0-py3-none-any.whl (9.3 kB)\n",
            "Requirement already satisfied: certifi>=2017.4.17 in c:\\users\\hassan moin\\anaconda3\\lib\\site-packages (from requests<3,>=2.21.0->tensorboard<2.12,>=2.11->tensorflow-intel==2.11.0; platform_system == \"Windows\"->tensorflow) (2020.6.20)\n",
            "Requirement already satisfied: chardet<4,>=3.0.2 in c:\\users\\hassan moin\\anaconda3\\lib\\site-packages (from requests<3,>=2.21.0->tensorboard<2.12,>=2.11->tensorflow-intel==2.11.0; platform_system == \"Windows\"->tensorflow) (3.0.4)\n",
            "Requirement already satisfied: urllib3!=1.25.0,!=1.25.1,<1.26,>=1.21.1 in c:\\users\\hassan moin\\anaconda3\\lib\\site-packages (from requests<3,>=2.21.0->tensorboard<2.12,>=2.11->tensorflow-intel==2.11.0; platform_system == \"Windows\"->tensorflow) (1.25.11)\n",
            "Requirement already satisfied: idna<3,>=2.5 in c:\\users\\hassan moin\\anaconda3\\lib\\site-packages (from requests<3,>=2.21.0->tensorboard<2.12,>=2.11->tensorflow-intel==2.11.0; platform_system == \"Windows\"->tensorflow) (2.10)\n",
            "Collecting requests-oauthlib>=0.7.0\n",
            "  Using cached requests_oauthlib-1.3.1-py2.py3-none-any.whl (23 kB)\n",
            "Requirement already satisfied: zipp>=0.5 in c:\\users\\hassan moin\\anaconda3\\lib\\site-packages (from importlib-metadata>=4.4; python_version < \"3.10\"->markdown>=2.6.8->tensorboard<2.12,>=2.11->tensorflow-intel==2.11.0; platform_system == \"Windows\"->tensorflow) (3.4.0)\n",
            "Collecting pyasn1<0.5.0,>=0.4.6\n",
            "  Using cached pyasn1-0.4.8-py2.py3-none-any.whl (77 kB)\n",
            "Collecting oauthlib>=3.0.0\n",
            "  Using cached oauthlib-3.2.2-py3-none-any.whl (151 kB)\n",
            "Installing collected packages: tensorflow-estimator, termcolor, protobuf, importlib-metadata, markdown, pyasn1, pyasn1-modules, rsa, cachetools, google-auth, absl-py, grpcio, tensorboard-data-server, tensorboard-plugin-wit, oauthlib, requests-oauthlib, google-auth-oauthlib, tensorboard, astunparse, opt-einsum, google-pasta, gast, tensorflow-io-gcs-filesystem, tensorflow-intel, tensorflow\n",
            "  Attempting uninstall: importlib-metadata\n",
            "    Found existing installation: importlib-metadata 2.0.0\n",
            "    Uninstalling importlib-metadata-2.0.0:\n",
            "      Successfully uninstalled importlib-metadata-2.0.0\n",
            "Successfully installed absl-py-1.3.0 astunparse-1.6.3 cachetools-5.2.0 gast-0.4.0 google-auth-2.15.0 google-auth-oauthlib-0.4.6 google-pasta-0.2.0 grpcio-1.51.1 importlib-metadata-5.1.0 markdown-3.4.1 oauthlib-3.2.2 opt-einsum-3.3.0 protobuf-3.19.6 pyasn1-0.4.8 pyasn1-modules-0.2.8 requests-oauthlib-1.3.1 rsa-4.9 tensorboard-2.11.0 tensorboard-data-server-0.6.1 tensorboard-plugin-wit-1.8.1 tensorflow-2.11.0 tensorflow-estimator-2.11.0 tensorflow-intel-2.11.0 tensorflow-io-gcs-filesystem-0.28.0 termcolor-2.1.1\n"
          ]
        }
      ],
      "source": [
        "#!pip install dvc\n",
        "# import dvc.api\n",
        "!pip install tensorflow\n",
        "import os\n",
        "import sys\n",
        "import pandas as pd\n",
        "import numpy as np\n",
        "import keras\n",
        "import matplotlib.pyplot as plt\n",
        "from matplotlib.gridspec import GridSpec\n",
        "from matplotlib import ticker\n",
        "from statsmodels.tsa.stattools import adfuller, acf, pacf\n",
        "import tensorflow as tf\n",
        "from tensorflow.keras.models import Sequential\n",
        "from tensorflow.keras.layers import Dense\n",
        "from tensorflow.keras.layers import LSTM\n",
        "from tensorflow.keras.layers import Dropout\n",
        "from sklearn.model_selection import train_test_split\n",
        "from IPython.display import Markdown, display, Image\n",
        "from keras.models import Sequential\n",
        "from keras.layers import LSTM, Dense, Flatten, Dropout\n",
        "from tensorflow.keras import layers\n",
        "from keras.callbacks import History\n",
        "import warnings\n",
        "warnings.filterwarnings('ignore')\n",
        "sys.path.append(os.path.abspath(os.path.join('..')))\n"
      ],
      "id": "tsBj5pIiDY6D"
    },
    {
      "cell_type": "code",
      "execution_count": null,
      "metadata": {
        "id": "vJP7JEjMDY6G"
      },
      "outputs": [],
      "source": [
        "from tensorflow.keras.layers import *\n",
        "from tensorflow.keras.models import *"
      ],
      "id": "vJP7JEjMDY6G"
    },
    {
      "cell_type": "code",
      "execution_count": null,
      "metadata": {
        "id": "fAZUBvlKDY6H",
        "outputId": "0e9f90ad-9a4a-48d2-9782-564ebd1af153"
      },
      "outputs": [
        {
          "name": "stdout",
          "output_type": "stream",
          "text": [
            "        Sales  DayOfWeek  Open  Promo  SchoolHoliday  CompetitionDistance  \\\n",
            "0        5263          5     1      1              1                 1270   \n",
            "1        6064          5     1      1              1                  570   \n",
            "2        8314          5     1      1              1                14130   \n",
            "3       13995          5     1      1              1                  620   \n",
            "4        4822          5     1      1              1                29910   \n",
            "...       ...        ...   ...    ...            ...                  ...   \n",
            "516925   4305          2     1      0              0                 5290   \n",
            "516926   5200          2     1      0              0                 6360   \n",
            "516927   5069          2     1      0              0                  900   \n",
            "516928   6025          2     1      0              0                 1500   \n",
            "516929   7352          2     1      0              0                 9720   \n",
            "\n",
            "        CompetitionOpenSinceMonth  CompetitionOpenSinceYear  Promo2  \\\n",
            "0                               9                      2008       0   \n",
            "1                              11                      2007       1   \n",
            "2                              12                      2006       1   \n",
            "3                               9                      2009       0   \n",
            "4                               4                      2015       0   \n",
            "...                           ...                       ...     ...   \n",
            "516925                         11                      2012       1   \n",
            "516926                          0                         0       1   \n",
            "516927                          0                         0       1   \n",
            "516928                         10                      2005       0   \n",
            "516929                          8                      2013       0   \n",
            "\n",
            "        Promo2SinceWeek  ...  StateHoliday_a  StateHoliday_b  StateHoliday_c  \\\n",
            "0                     0  ...               0               0               0   \n",
            "1                    13  ...               0               0               0   \n",
            "2                    14  ...               0               0               0   \n",
            "3                     0  ...               0               0               0   \n",
            "4                     0  ...               0               0               0   \n",
            "...                 ...  ...             ...             ...             ...   \n",
            "516925                5  ...               0               0               0   \n",
            "516926               40  ...               0               0               0   \n",
            "516927               14  ...               0               0               0   \n",
            "516928                0  ...               0               0               0   \n",
            "516929                0  ...               0               0               0   \n",
            "\n",
            "        StoreType_a  StoreType_b  StoreType_c  StoreType_d  Assortment_a  \\\n",
            "0                 0            0            1            0             1   \n",
            "1                 1            0            0            0             1   \n",
            "2                 1            0            0            0             1   \n",
            "3                 0            0            1            0             0   \n",
            "4                 1            0            0            0             1   \n",
            "...             ...          ...          ...          ...           ...   \n",
            "516925            1            0            0            0             1   \n",
            "516926            0            0            0            1             0   \n",
            "516927            0            1            0            0             0   \n",
            "516928            0            0            0            1             0   \n",
            "516929            1            0            0            0             0   \n",
            "\n",
            "        Assortment_b  Assortment_c  \n",
            "0                  0             0  \n",
            "1                  0             0  \n",
            "2                  0             0  \n",
            "3                  0             1  \n",
            "4                  0             0  \n",
            "...              ...           ...  \n",
            "516925             0             0  \n",
            "516926             0             1  \n",
            "516927             1             0  \n",
            "516928             0             1  \n",
            "516929             0             1  \n",
            "\n",
            "[516930 rows x 31 columns]\n"
          ]
        }
      ],
      "source": [
        "scaledTrain1 = pd.read_csv('train_out1.csv')\n",
        "scaledTrain2 = pd.read_csv('train_out1.csv')\n",
        "scaledTest=pd.read_csv('test_out.csv')\n",
        "print(scaledTrain1)\n"
      ],
      "id": "fAZUBvlKDY6H"
    },
    {
      "cell_type": "code",
      "execution_count": null,
      "metadata": {
        "id": "fqkJ15puDY6H",
        "outputId": "e7356808-9e9f-406b-d269-dbe44554d2ed"
      },
      "outputs": [
        {
          "name": "stdout",
          "output_type": "stream",
          "text": [
            "     Sales  DayOfWeek  Open  Promo  SchoolHoliday  CompetitionDistance  \\\n",
            "0   5263.0        5.0   1.0    1.0            1.0               1270.0   \n",
            "1   6064.0        5.0   1.0    1.0            1.0                570.0   \n",
            "2   8314.0        5.0   1.0    1.0            1.0              14130.0   \n",
            "3  13995.0        5.0   1.0    1.0            1.0                620.0   \n",
            "4   4822.0        5.0   1.0    1.0            1.0              29910.0   \n",
            "\n",
            "   CompetitionOpenSinceMonth  CompetitionOpenSinceYear  Promo2  \\\n",
            "0                        9.0                    2008.0     0.0   \n",
            "1                       11.0                    2007.0     1.0   \n",
            "2                       12.0                    2006.0     1.0   \n",
            "3                        9.0                    2009.0     0.0   \n",
            "4                        4.0                    2015.0     0.0   \n",
            "\n",
            "   Promo2SinceWeek  ...  StateHoliday_a  StateHoliday_b  StateHoliday_c  \\\n",
            "0              0.0  ...             0.0             0.0             0.0   \n",
            "1             13.0  ...             0.0             0.0             0.0   \n",
            "2             14.0  ...             0.0             0.0             0.0   \n",
            "3              0.0  ...             0.0             0.0             0.0   \n",
            "4              0.0  ...             0.0             0.0             0.0   \n",
            "\n",
            "   StoreType_a  StoreType_b  StoreType_c  StoreType_d  Assortment_a  \\\n",
            "0          0.0          0.0          1.0          0.0           1.0   \n",
            "1          1.0          0.0          0.0          0.0           1.0   \n",
            "2          1.0          0.0          0.0          0.0           1.0   \n",
            "3          0.0          0.0          1.0          0.0           0.0   \n",
            "4          1.0          0.0          0.0          0.0           1.0   \n",
            "\n",
            "   Assortment_b  Assortment_c  \n",
            "0           0.0           0.0  \n",
            "1           0.0           0.0  \n",
            "2           0.0           0.0  \n",
            "3           0.0           1.0  \n",
            "4           0.0           0.0  \n",
            "\n",
            "[5 rows x 31 columns]\n"
          ]
        }
      ],
      "source": [
        "df_train = pd.DataFrame(np.concatenate([scaledTrain1.values, scaledTrain2.values], axis=0), columns=scaledTrain1.columns) \n",
        "print(df_train.head())"
      ],
      "id": "fqkJ15puDY6H"
    },
    {
      "cell_type": "code",
      "execution_count": null,
      "metadata": {
        "id": "EdGr0atzDY6I",
        "outputId": "bc3013d6-18eb-4861-acda-c0add6788f56"
      },
      "outputs": [
        {
          "name": "stdout",
          "output_type": "stream",
          "text": [
            "X shape 1033860\n",
            "Y shape 1033860\n"
          ]
        }
      ],
      "source": [
        "X = df_train.drop(['Sales'], axis=1)\n",
        "print('X shape', len(X))\n",
        "Y = df_train[\"Sales\"]\n",
        "print('Y shape', len(Y))\n",
        "# print(Y)\n",
        "# scaledTrain.drop(['Sales'], axis=1)\n",
        "# x_valid = scaledValid.drop(['Sales'],axis=1)\n",
        "# y_valid = scaledValid[\"Sales\"]\n",
        "# scaledValid.drop(['Sales'],axis=1)"
      ],
      "id": "EdGr0atzDY6I"
    },
    {
      "cell_type": "code",
      "execution_count": null,
      "metadata": {
        "id": "FwSObjvoDY6I",
        "outputId": "ed86d583-9989-41e7-bc93-914b4e79aff0"
      },
      "outputs": [
        {
          "data": {
            "text/html": [
              "<div>\n",
              "<style scoped>\n",
              "    .dataframe tbody tr th:only-of-type {\n",
              "        vertical-align: middle;\n",
              "    }\n",
              "\n",
              "    .dataframe tbody tr th {\n",
              "        vertical-align: top;\n",
              "    }\n",
              "\n",
              "    .dataframe thead th {\n",
              "        text-align: right;\n",
              "    }\n",
              "</style>\n",
              "<table border=\"1\" class=\"dataframe\">\n",
              "  <thead>\n",
              "    <tr style=\"text-align: right;\">\n",
              "      <th></th>\n",
              "      <th>DayOfWeek</th>\n",
              "      <th>Open</th>\n",
              "      <th>Promo</th>\n",
              "      <th>SchoolHoliday</th>\n",
              "      <th>CompetitionDistance</th>\n",
              "      <th>CompetitionOpenSinceMonth</th>\n",
              "      <th>CompetitionOpenSinceYear</th>\n",
              "      <th>Promo2</th>\n",
              "      <th>Promo2SinceWeek</th>\n",
              "      <th>Promo2SinceYear</th>\n",
              "      <th>...</th>\n",
              "      <th>StateHoliday_a</th>\n",
              "      <th>StateHoliday_b</th>\n",
              "      <th>StateHoliday_c</th>\n",
              "      <th>StoreType_a</th>\n",
              "      <th>StoreType_b</th>\n",
              "      <th>StoreType_c</th>\n",
              "      <th>StoreType_d</th>\n",
              "      <th>Assortment_a</th>\n",
              "      <th>Assortment_b</th>\n",
              "      <th>Assortment_c</th>\n",
              "    </tr>\n",
              "  </thead>\n",
              "  <tbody>\n",
              "    <tr>\n",
              "      <th>416821</th>\n",
              "      <td>1.0</td>\n",
              "      <td>1.0</td>\n",
              "      <td>0.0</td>\n",
              "      <td>0.0</td>\n",
              "      <td>150.0</td>\n",
              "      <td>9.0</td>\n",
              "      <td>2008.0</td>\n",
              "      <td>1.0</td>\n",
              "      <td>1.0</td>\n",
              "      <td>2012.0</td>\n",
              "      <td>...</td>\n",
              "      <td>0.0</td>\n",
              "      <td>0.0</td>\n",
              "      <td>0.0</td>\n",
              "      <td>1.0</td>\n",
              "      <td>0.0</td>\n",
              "      <td>0.0</td>\n",
              "      <td>0.0</td>\n",
              "      <td>1.0</td>\n",
              "      <td>0.0</td>\n",
              "      <td>0.0</td>\n",
              "    </tr>\n",
              "    <tr>\n",
              "      <th>236617</th>\n",
              "      <td>3.0</td>\n",
              "      <td>1.0</td>\n",
              "      <td>0.0</td>\n",
              "      <td>1.0</td>\n",
              "      <td>1100.0</td>\n",
              "      <td>6.0</td>\n",
              "      <td>2009.0</td>\n",
              "      <td>0.0</td>\n",
              "      <td>0.0</td>\n",
              "      <td>0.0</td>\n",
              "      <td>...</td>\n",
              "      <td>0.0</td>\n",
              "      <td>0.0</td>\n",
              "      <td>0.0</td>\n",
              "      <td>1.0</td>\n",
              "      <td>0.0</td>\n",
              "      <td>0.0</td>\n",
              "      <td>0.0</td>\n",
              "      <td>1.0</td>\n",
              "      <td>0.0</td>\n",
              "      <td>0.0</td>\n",
              "    </tr>\n",
              "    <tr>\n",
              "      <th>781552</th>\n",
              "      <td>1.0</td>\n",
              "      <td>1.0</td>\n",
              "      <td>1.0</td>\n",
              "      <td>0.0</td>\n",
              "      <td>1420.0</td>\n",
              "      <td>11.0</td>\n",
              "      <td>2007.0</td>\n",
              "      <td>0.0</td>\n",
              "      <td>0.0</td>\n",
              "      <td>0.0</td>\n",
              "      <td>...</td>\n",
              "      <td>0.0</td>\n",
              "      <td>0.0</td>\n",
              "      <td>0.0</td>\n",
              "      <td>1.0</td>\n",
              "      <td>0.0</td>\n",
              "      <td>0.0</td>\n",
              "      <td>0.0</td>\n",
              "      <td>1.0</td>\n",
              "      <td>0.0</td>\n",
              "      <td>0.0</td>\n",
              "    </tr>\n",
              "    <tr>\n",
              "      <th>953448</th>\n",
              "      <td>4.0</td>\n",
              "      <td>1.0</td>\n",
              "      <td>1.0</td>\n",
              "      <td>0.0</td>\n",
              "      <td>7930.0</td>\n",
              "      <td>0.0</td>\n",
              "      <td>0.0</td>\n",
              "      <td>1.0</td>\n",
              "      <td>1.0</td>\n",
              "      <td>2013.0</td>\n",
              "      <td>...</td>\n",
              "      <td>0.0</td>\n",
              "      <td>0.0</td>\n",
              "      <td>0.0</td>\n",
              "      <td>0.0</td>\n",
              "      <td>0.0</td>\n",
              "      <td>0.0</td>\n",
              "      <td>1.0</td>\n",
              "      <td>0.0</td>\n",
              "      <td>0.0</td>\n",
              "      <td>1.0</td>\n",
              "    </tr>\n",
              "    <tr>\n",
              "      <th>856636</th>\n",
              "      <td>5.0</td>\n",
              "      <td>1.0</td>\n",
              "      <td>0.0</td>\n",
              "      <td>0.0</td>\n",
              "      <td>4270.0</td>\n",
              "      <td>0.0</td>\n",
              "      <td>0.0</td>\n",
              "      <td>1.0</td>\n",
              "      <td>1.0</td>\n",
              "      <td>2013.0</td>\n",
              "      <td>...</td>\n",
              "      <td>0.0</td>\n",
              "      <td>0.0</td>\n",
              "      <td>0.0</td>\n",
              "      <td>0.0</td>\n",
              "      <td>0.0</td>\n",
              "      <td>0.0</td>\n",
              "      <td>1.0</td>\n",
              "      <td>0.0</td>\n",
              "      <td>0.0</td>\n",
              "      <td>1.0</td>\n",
              "    </tr>\n",
              "    <tr>\n",
              "      <th>...</th>\n",
              "      <td>...</td>\n",
              "      <td>...</td>\n",
              "      <td>...</td>\n",
              "      <td>...</td>\n",
              "      <td>...</td>\n",
              "      <td>...</td>\n",
              "      <td>...</td>\n",
              "      <td>...</td>\n",
              "      <td>...</td>\n",
              "      <td>...</td>\n",
              "      <td>...</td>\n",
              "      <td>...</td>\n",
              "      <td>...</td>\n",
              "      <td>...</td>\n",
              "      <td>...</td>\n",
              "      <td>...</td>\n",
              "      <td>...</td>\n",
              "      <td>...</td>\n",
              "      <td>...</td>\n",
              "      <td>...</td>\n",
              "      <td>...</td>\n",
              "    </tr>\n",
              "    <tr>\n",
              "      <th>403540</th>\n",
              "      <td>7.0</td>\n",
              "      <td>0.0</td>\n",
              "      <td>0.0</td>\n",
              "      <td>0.0</td>\n",
              "      <td>3210.0</td>\n",
              "      <td>0.0</td>\n",
              "      <td>0.0</td>\n",
              "      <td>0.0</td>\n",
              "      <td>0.0</td>\n",
              "      <td>0.0</td>\n",
              "      <td>...</td>\n",
              "      <td>0.0</td>\n",
              "      <td>0.0</td>\n",
              "      <td>0.0</td>\n",
              "      <td>1.0</td>\n",
              "      <td>0.0</td>\n",
              "      <td>0.0</td>\n",
              "      <td>0.0</td>\n",
              "      <td>1.0</td>\n",
              "      <td>0.0</td>\n",
              "      <td>0.0</td>\n",
              "    </tr>\n",
              "    <tr>\n",
              "      <th>880040</th>\n",
              "      <td>1.0</td>\n",
              "      <td>1.0</td>\n",
              "      <td>1.0</td>\n",
              "      <td>1.0</td>\n",
              "      <td>2710.0</td>\n",
              "      <td>7.0</td>\n",
              "      <td>2001.0</td>\n",
              "      <td>1.0</td>\n",
              "      <td>22.0</td>\n",
              "      <td>2012.0</td>\n",
              "      <td>...</td>\n",
              "      <td>0.0</td>\n",
              "      <td>0.0</td>\n",
              "      <td>0.0</td>\n",
              "      <td>1.0</td>\n",
              "      <td>0.0</td>\n",
              "      <td>0.0</td>\n",
              "      <td>0.0</td>\n",
              "      <td>1.0</td>\n",
              "      <td>0.0</td>\n",
              "      <td>0.0</td>\n",
              "    </tr>\n",
              "    <tr>\n",
              "      <th>170879</th>\n",
              "      <td>6.0</td>\n",
              "      <td>1.0</td>\n",
              "      <td>0.0</td>\n",
              "      <td>0.0</td>\n",
              "      <td>2410.0</td>\n",
              "      <td>0.0</td>\n",
              "      <td>0.0</td>\n",
              "      <td>0.0</td>\n",
              "      <td>0.0</td>\n",
              "      <td>0.0</td>\n",
              "      <td>...</td>\n",
              "      <td>0.0</td>\n",
              "      <td>0.0</td>\n",
              "      <td>0.0</td>\n",
              "      <td>1.0</td>\n",
              "      <td>0.0</td>\n",
              "      <td>0.0</td>\n",
              "      <td>0.0</td>\n",
              "      <td>1.0</td>\n",
              "      <td>0.0</td>\n",
              "      <td>0.0</td>\n",
              "    </tr>\n",
              "    <tr>\n",
              "      <th>520754</th>\n",
              "      <td>2.0</td>\n",
              "      <td>1.0</td>\n",
              "      <td>1.0</td>\n",
              "      <td>1.0</td>\n",
              "      <td>300.0</td>\n",
              "      <td>11.0</td>\n",
              "      <td>2012.0</td>\n",
              "      <td>0.0</td>\n",
              "      <td>0.0</td>\n",
              "      <td>0.0</td>\n",
              "      <td>...</td>\n",
              "      <td>0.0</td>\n",
              "      <td>0.0</td>\n",
              "      <td>0.0</td>\n",
              "      <td>1.0</td>\n",
              "      <td>0.0</td>\n",
              "      <td>0.0</td>\n",
              "      <td>0.0</td>\n",
              "      <td>1.0</td>\n",
              "      <td>0.0</td>\n",
              "      <td>0.0</td>\n",
              "    </tr>\n",
              "    <tr>\n",
              "      <th>441772</th>\n",
              "      <td>7.0</td>\n",
              "      <td>0.0</td>\n",
              "      <td>0.0</td>\n",
              "      <td>0.0</td>\n",
              "      <td>140.0</td>\n",
              "      <td>9.0</td>\n",
              "      <td>2012.0</td>\n",
              "      <td>0.0</td>\n",
              "      <td>0.0</td>\n",
              "      <td>0.0</td>\n",
              "      <td>...</td>\n",
              "      <td>0.0</td>\n",
              "      <td>0.0</td>\n",
              "      <td>0.0</td>\n",
              "      <td>0.0</td>\n",
              "      <td>0.0</td>\n",
              "      <td>1.0</td>\n",
              "      <td>0.0</td>\n",
              "      <td>0.0</td>\n",
              "      <td>0.0</td>\n",
              "      <td>1.0</td>\n",
              "    </tr>\n",
              "  </tbody>\n",
              "</table>\n",
              "<p>744379 rows × 30 columns</p>\n",
              "</div>"
            ],
            "text/plain": [
              "        DayOfWeek  Open  Promo  SchoolHoliday  CompetitionDistance  \\\n",
              "416821        1.0   1.0    0.0            0.0                150.0   \n",
              "236617        3.0   1.0    0.0            1.0               1100.0   \n",
              "781552        1.0   1.0    1.0            0.0               1420.0   \n",
              "953448        4.0   1.0    1.0            0.0               7930.0   \n",
              "856636        5.0   1.0    0.0            0.0               4270.0   \n",
              "...           ...   ...    ...            ...                  ...   \n",
              "403540        7.0   0.0    0.0            0.0               3210.0   \n",
              "880040        1.0   1.0    1.0            1.0               2710.0   \n",
              "170879        6.0   1.0    0.0            0.0               2410.0   \n",
              "520754        2.0   1.0    1.0            1.0                300.0   \n",
              "441772        7.0   0.0    0.0            0.0                140.0   \n",
              "\n",
              "        CompetitionOpenSinceMonth  CompetitionOpenSinceYear  Promo2  \\\n",
              "416821                        9.0                    2008.0     1.0   \n",
              "236617                        6.0                    2009.0     0.0   \n",
              "781552                       11.0                    2007.0     0.0   \n",
              "953448                        0.0                       0.0     1.0   \n",
              "856636                        0.0                       0.0     1.0   \n",
              "...                           ...                       ...     ...   \n",
              "403540                        0.0                       0.0     0.0   \n",
              "880040                        7.0                    2001.0     1.0   \n",
              "170879                        0.0                       0.0     0.0   \n",
              "520754                       11.0                    2012.0     0.0   \n",
              "441772                        9.0                    2012.0     0.0   \n",
              "\n",
              "        Promo2SinceWeek  Promo2SinceYear  ...  StateHoliday_a  StateHoliday_b  \\\n",
              "416821              1.0           2012.0  ...             0.0             0.0   \n",
              "236617              0.0              0.0  ...             0.0             0.0   \n",
              "781552              0.0              0.0  ...             0.0             0.0   \n",
              "953448              1.0           2013.0  ...             0.0             0.0   \n",
              "856636              1.0           2013.0  ...             0.0             0.0   \n",
              "...                 ...              ...  ...             ...             ...   \n",
              "403540              0.0              0.0  ...             0.0             0.0   \n",
              "880040             22.0           2012.0  ...             0.0             0.0   \n",
              "170879              0.0              0.0  ...             0.0             0.0   \n",
              "520754              0.0              0.0  ...             0.0             0.0   \n",
              "441772              0.0              0.0  ...             0.0             0.0   \n",
              "\n",
              "        StateHoliday_c  StoreType_a  StoreType_b  StoreType_c  StoreType_d  \\\n",
              "416821             0.0          1.0          0.0          0.0          0.0   \n",
              "236617             0.0          1.0          0.0          0.0          0.0   \n",
              "781552             0.0          1.0          0.0          0.0          0.0   \n",
              "953448             0.0          0.0          0.0          0.0          1.0   \n",
              "856636             0.0          0.0          0.0          0.0          1.0   \n",
              "...                ...          ...          ...          ...          ...   \n",
              "403540             0.0          1.0          0.0          0.0          0.0   \n",
              "880040             0.0          1.0          0.0          0.0          0.0   \n",
              "170879             0.0          1.0          0.0          0.0          0.0   \n",
              "520754             0.0          1.0          0.0          0.0          0.0   \n",
              "441772             0.0          0.0          0.0          1.0          0.0   \n",
              "\n",
              "        Assortment_a  Assortment_b  Assortment_c  \n",
              "416821           1.0           0.0           0.0  \n",
              "236617           1.0           0.0           0.0  \n",
              "781552           1.0           0.0           0.0  \n",
              "953448           0.0           0.0           1.0  \n",
              "856636           0.0           0.0           1.0  \n",
              "...              ...           ...           ...  \n",
              "403540           1.0           0.0           0.0  \n",
              "880040           1.0           0.0           0.0  \n",
              "170879           1.0           0.0           0.0  \n",
              "520754           1.0           0.0           0.0  \n",
              "441772           0.0           0.0           1.0  \n",
              "\n",
              "[744379 rows x 30 columns]"
            ]
          },
          "execution_count": 21,
          "metadata": {},
          "output_type": "execute_result"
        }
      ],
      "source": [
        "X_train, X_test, y_train, y_test = train_test_split(X, Y, random_state=1000, train_size = 0.80)\n",
        "X_train, X_val, y_train, y_val = train_test_split(X_train, y_train, test_size=0.1, random_state=1000)\n",
        "\n",
        "X_train"
      ],
      "id": "FwSObjvoDY6I"
    },
    {
      "cell_type": "code",
      "execution_count": null,
      "metadata": {
        "id": "GUHTK4S_DY6J",
        "outputId": "469ee456-954c-40d1-a210-13afb683659b"
      },
      "outputs": [
        {
          "name": "stdout",
          "output_type": "stream",
          "text": [
            "Shape of X_train:  (744379, 30)\n",
            "Shape of X_val:  (82709, 30)\n",
            "Shape of X_test:  (206772, 30)\n",
            "Shape of y_train:  (744379,)\n",
            "Shape of y_val:  (82709,)\n",
            "Shape of y_test:  (206772,)\n"
          ]
        }
      ],
      "source": [
        "print('Shape of X_train: ', X_train.shape)\n",
        "print('Shape of X_val: ', X_val.shape)\n",
        "print('Shape of X_test: ', X_test.shape)\n",
        "print('Shape of y_train: ', y_train.shape)\n",
        "print('Shape of y_val: ', y_val.shape)\n",
        "print('Shape of y_test: ', y_test.shape)"
      ],
      "id": "GUHTK4S_DY6J"
    },
    {
      "cell_type": "code",
      "execution_count": null,
      "metadata": {
        "id": "ToTAkEUSDY6J",
        "outputId": "1746ae81-8d36-457c-ee03-fed66171c34c"
      },
      "outputs": [
        {
          "name": "stdout",
          "output_type": "stream",
          "text": [
            "Model: \"sequential\"\n",
            "_________________________________________________________________\n",
            " Layer (type)                Output Shape              Param #   \n",
            "=================================================================\n",
            " dense (Dense)               (None, 350)               10850     \n",
            "                                                                 \n",
            " dense_1 (Dense)             (None, 350)               122850    \n",
            "                                                                 \n",
            " dense_2 (Dense)             (None, 350)               122850    \n",
            "                                                                 \n",
            " dense_3 (Dense)             (None, 350)               122850    \n",
            "                                                                 \n",
            " dense_4 (Dense)             (None, 1)                 351       \n",
            "                                                                 \n",
            "=================================================================\n",
            "Total params: 379,751\n",
            "Trainable params: 379,751\n",
            "Non-trainable params: 0\n",
            "_________________________________________________________________\n"
          ]
        }
      ],
      "source": [
        "#KERAS MODEL\n",
        "from keras.models import Sequential\n",
        "from keras.layers import Dense, Dropout\n",
        "\n",
        "model = Sequential()\n",
        "model.add(Dense(350, input_dim=30, activation='relu'))\n",
        "model.add(Dense(350, activation='relu'))\n",
        "model.add(Dense(350, activation='relu'))\n",
        "model.add(Dense(350, activation='relu'))\n",
        "model.add(Dense(1, activation='softmax'))\n",
        "model.summary()"
      ],
      "id": "ToTAkEUSDY6J"
    },
    {
      "cell_type": "code",
      "execution_count": null,
      "metadata": {
        "id": "J31mkwT7DY6K",
        "outputId": "e015c8d3-8bbe-4ff5-a09b-718eb00d5bf2"
      },
      "outputs": [
        {
          "name": "stdout",
          "output_type": "stream",
          "text": [
            "Epoch 1/10\n",
            "11631/11631 [==============================] - 170s 14ms/step - loss: 50097012.0000 - mean_absolute_error: 5898.2202 - val_loss: 50190292.0000 - val_mean_absolute_error: 5908.8638\n",
            "Epoch 2/10\n",
            "11631/11631 [==============================] - 163s 14ms/step - loss: 50097040.0000 - mean_absolute_error: 5898.2153 - val_loss: 50190292.0000 - val_mean_absolute_error: 5908.8638\n",
            "Epoch 3/10\n",
            "11631/11631 [==============================] - 157s 13ms/step - loss: 50096860.0000 - mean_absolute_error: 5898.2271 - val_loss: 50190292.0000 - val_mean_absolute_error: 5908.8638\n",
            "Epoch 4/10\n",
            "11631/11631 [==============================] - 176s 15ms/step - loss: 50097032.0000 - mean_absolute_error: 5898.2192 - val_loss: 50190292.0000 - val_mean_absolute_error: 5908.8638\n",
            "Epoch 5/10\n",
            "11631/11631 [==============================] - 192s 17ms/step - loss: 50097048.0000 - mean_absolute_error: 5898.2222 - val_loss: 50190292.0000 - val_mean_absolute_error: 5908.8638\n",
            "Epoch 6/10\n",
            "11631/11631 [==============================] - 172s 15ms/step - loss: 50097012.0000 - mean_absolute_error: 5898.2090 - val_loss: 50190292.0000 - val_mean_absolute_error: 5908.8638\n",
            "Epoch 7/10\n",
            "11631/11631 [==============================] - 170s 15ms/step - loss: 50097040.0000 - mean_absolute_error: 5898.2192 - val_loss: 50190292.0000 - val_mean_absolute_error: 5908.8638\n",
            "Epoch 8/10\n",
            "11631/11631 [==============================] - 188s 16ms/step - loss: 50097044.0000 - mean_absolute_error: 5898.2241 - val_loss: 50190292.0000 - val_mean_absolute_error: 5908.8638\n",
            "Epoch 9/10\n",
            "11631/11631 [==============================] - 179s 15ms/step - loss: 50097060.0000 - mean_absolute_error: 5898.2129 - val_loss: 50190292.0000 - val_mean_absolute_error: 5908.8638\n",
            "Epoch 10/10\n",
            "11631/11631 [==============================] - 195s 17ms/step - loss: 50097168.0000 - mean_absolute_error: 5898.2188 - val_loss: 50190292.0000 - val_mean_absolute_error: 5908.8638\n"
          ]
        },
        {
          "data": {
            "text/plain": [
              "<keras.callbacks.History at 0x1d1a61b9790>"
            ]
          },
          "execution_count": 24,
          "metadata": {},
          "output_type": "execute_result"
        }
      ],
      "source": [
        "model.compile(optimizer='adam', loss='mean_squared_error', metrics=['mean_absolute_error'])\n",
        "\n",
        "model.fit(X_train, y_train, validation_data=(X_val, y_val), epochs=10, batch_size=64)"
      ],
      "id": "J31mkwT7DY6K"
    },
    {
      "cell_type": "code",
      "execution_count": null,
      "metadata": {
        "id": "FTY5GnXGDY6K",
        "outputId": "a6777520-852e-482a-b2f4-58275986d2de"
      },
      "outputs": [
        {
          "name": "stdout",
          "output_type": "stream",
          "text": [
            "6462/6462 [==============================] - 37s 6ms/step - loss: 50120364.0000 - mean_absolute_error: 5897.2305\n",
            "Metric loss : 50120364.0\n",
            "Metric mean_absolute_error : 5897.23\n"
          ]
        }
      ],
      "source": [
        "result = model.evaluate(X_test, y_test)\n",
        "\n",
        "for i in range(len(model.metrics_names)): \n",
        "    print('Metric', model.metrics_names[i], ':', str(round(result[i], 2)))"
      ],
      "id": "FTY5GnXGDY6K"
    },
    {
      "cell_type": "code",
      "execution_count": null,
      "metadata": {
        "id": "IjSaklUKDY6L",
        "outputId": "416d310b-098c-40e9-ecea-ffd9efded6e6"
      },
      "outputs": [
        {
          "name": "stdout",
          "output_type": "stream",
          "text": [
            "6462/6462 [==============================] - 32s 5ms/step\n"
          ]
        }
      ],
      "source": [
        "prediction = model.predict(X_test)"
      ],
      "id": "IjSaklUKDY6L"
    },
    {
      "cell_type": "code",
      "execution_count": null,
      "metadata": {
        "id": "7Lel5GVtDY6L",
        "outputId": "e37b8923-344f-42ac-90d6-9b307bafd434"
      },
      "outputs": [
        {
          "name": "stdout",
          "output_type": "stream",
          "text": [
            "[[1.]\n",
            " [1.]\n",
            " [1.]\n",
            " ...\n",
            " [1.]\n",
            " [1.]\n",
            " [1.]]\n"
          ]
        }
      ],
      "source": [
        "print(prediction)"
      ],
      "id": "7Lel5GVtDY6L"
    },
    {
      "cell_type": "code",
      "execution_count": null,
      "metadata": {
        "id": "DIKBDOAnDY6L",
        "outputId": "4d49c6fa-44de-4d6e-f95b-ba6a4d16a58b"
      },
      "outputs": [
        {
          "name": "stdout",
          "output_type": "stream",
          "text": [
            "Model: \"sequential_1\"\n",
            "_________________________________________________________________\n",
            " Layer (type)                Output Shape              Param #   \n",
            "=================================================================\n",
            " lstm (LSTM)                 (None, 30, 100)           40800     \n",
            "                                                                 \n",
            " lstm_1 (LSTM)               (None, 100)               80400     \n",
            "                                                                 \n",
            " dense_5 (Dense)             (None, 25)                2525      \n",
            "                                                                 \n",
            " dense_6 (Dense)             (None, 1)                 26        \n",
            "                                                                 \n",
            "=================================================================\n",
            "Total params: 123,751\n",
            "Trainable params: 123,751\n",
            "Non-trainable params: 0\n",
            "_________________________________________________________________\n"
          ]
        }
      ],
      "source": [
        "#LSTM MODEL\n",
        "model = keras.Sequential()\n",
        "model.add(layers.LSTM(100, return_sequences=True, input_shape=(X_train.shape[1], 1)))\n",
        "model.add(layers.LSTM(100, return_sequences=False))\n",
        "model.add(layers.Dense(25))\n",
        "model.add(layers.Dense(1))\n",
        "model.summary()"
      ],
      "id": "DIKBDOAnDY6L"
    },
    {
      "cell_type": "code",
      "execution_count": null,
      "metadata": {
        "id": "IfrV0pXCDY6M",
        "outputId": "b8dc0dab-2f92-465a-bb49-eff44c29ee6e"
      },
      "outputs": [
        {
          "name": "stdout",
          "output_type": "stream",
          "text": [
            "Epoch 1/3\n",
            " 80853/744379 [==>...........................] - ETA: 6:04:26 - loss: 15562547.0000"
          ]
        }
      ],
      "source": [
        "model.compile(optimizer='adam', loss='mean_squared_error')\n",
        "model.fit(X_train, y_train, batch_size= 1, epochs=3)"
      ],
      "id": "IfrV0pXCDY6M"
    },
    {
      "cell_type": "code",
      "execution_count": null,
      "metadata": {
        "id": "0VArCEhNDY6M"
      },
      "outputs": [],
      "source": [
        "#prediction from LSTM\n",
        "predictions = model.predict(x_test)\n",
        "rmse = np.sqrt(np.mean(predictions - y_test)**2)\n",
        "rmse"
      ],
      "id": "0VArCEhNDY6M"
    },
    {
      "cell_type": "code",
      "execution_count": null,
      "metadata": {
        "id": "knX_7OOZDY6M"
      },
      "outputs": [],
      "source": [
        "# model = keras.Sequential()\n",
        "# history=History()\n",
        "# model.add(Dense(200, input_dim=20,activation=\"relu\"))\n",
        "# # model.add(Dense(200,activation=\"relu\"))\n",
        "# # model.add(Dense(200,activation=\"relu\"))\n",
        "# # model.add(Dense(200,activation=\"relu\"))\n",
        "# # model.add(Dense(200,activation=\"relu\"))\n",
        "# # model.add(Dense(1,activation=\"linear\"))\n",
        "# model.add(Dense(512, activation='relu'))\n",
        "# model.add(Dense(512, activation='relu'))\n",
        "# model.add(Dense(512, activation='relu'))\n",
        "# model.add(Dense(512, activation='relu'))\n",
        "# model.add(Dense(512, activation='relu'))\n",
        "# model.add(Dense(512, activation='relu'))\n",
        "# model.add(Dense(1, activation = 'softmax'))\n",
        "# # model.add(layers.BatchNormalization())\n",
        "# # model.add(layers.Dense(10))\n",
        "# # model.add(Dropout(0.2))\n",
        "# # print(model.summary())"
      ],
      "id": "knX_7OOZDY6M"
    },
    {
      "cell_type": "code",
      "execution_count": null,
      "metadata": {
        "id": "O5Ndfz0sDY6M"
      },
      "outputs": [],
      "source": [
        "model.compile( loss=\"mean_squared_error\", optimizer=\"adam\",metrics=[\"mean_absolute_error\"])"
      ],
      "id": "O5Ndfz0sDY6M"
    },
    {
      "cell_type": "code",
      "execution_count": null,
      "metadata": {
        "id": "cOBBj6nmDY6N",
        "outputId": "4c1f57b2-2f2b-4166-a223-7adbbf90267a"
      },
      "outputs": [
        {
          "name": "stdout",
          "output_type": "stream",
          "text": [
            "Epoch 1/10\n",
            "9423/9423 [==============================] - 262s 28ms/step - loss: 55324956.0000 - mean_absolute_error: 6881.6016 - val_loss: 55435828.0000 - val_mean_absolute_error: 6906.2900\n",
            "Epoch 2/10\n",
            "9423/9423 [==============================] - 254s 27ms/step - loss: 55324852.0000 - mean_absolute_error: 6881.5962 - val_loss: 55435828.0000 - val_mean_absolute_error: 6906.2900\n",
            "Epoch 3/10\n",
            "9423/9423 [==============================] - 238s 25ms/step - loss: 55324876.0000 - mean_absolute_error: 6881.6230 - val_loss: 55435828.0000 - val_mean_absolute_error: 6906.2900\n",
            "Epoch 4/10\n",
            "9423/9423 [==============================] - 225s 24ms/step - loss: 55324956.0000 - mean_absolute_error: 6881.6147 - val_loss: 55435828.0000 - val_mean_absolute_error: 6906.2900\n",
            "Epoch 5/10\n",
            "9423/9423 [==============================] - 223s 24ms/step - loss: 55324768.0000 - mean_absolute_error: 6881.6050 - val_loss: 55435828.0000 - val_mean_absolute_error: 6906.2900\n",
            "Epoch 6/10\n",
            "9423/9423 [==============================] - 222s 24ms/step - loss: 55324904.0000 - mean_absolute_error: 6881.6016 - val_loss: 55435828.0000 - val_mean_absolute_error: 6906.2900\n",
            "Epoch 7/10\n",
            "9423/9423 [==============================] - 222s 24ms/step - loss: 55325100.0000 - mean_absolute_error: 6881.6230 - val_loss: 55435828.0000 - val_mean_absolute_error: 6906.2900\n",
            "Epoch 8/10\n",
            "9423/9423 [==============================] - 224s 24ms/step - loss: 55324916.0000 - mean_absolute_error: 6881.6079 - val_loss: 55435828.0000 - val_mean_absolute_error: 6906.2900\n",
            "Epoch 9/10\n",
            "9423/9423 [==============================] - 267s 28ms/step - loss: 55324828.0000 - mean_absolute_error: 6881.5923 - val_loss: 55435828.0000 - val_mean_absolute_error: 6906.2900\n",
            "Epoch 10/10\n",
            "9423/9423 [==============================] - 253s 27ms/step - loss: 55324816.0000 - mean_absolute_error: 6881.6055 - val_loss: 55435828.0000 - val_mean_absolute_error: 6906.2900\n"
          ]
        },
        {
          "data": {
            "text/plain": [
              "<keras.callbacks.History at 0x2239df30280>"
            ]
          },
          "execution_count": 12,
          "metadata": {},
          "output_type": "execute_result"
        }
      ],
      "source": [
        "model.fit(\n",
        "        X_train, y_train, validation_data=(x_valid, y_valid), batch_size=64, epochs=10,callbacks=[history]\n",
        ")"
      ],
      "id": "cOBBj6nmDY6N"
    },
    {
      "cell_type": "code",
      "execution_count": null,
      "metadata": {
        "id": "U4G69MUsDY6N",
        "outputId": "e0e2d441-78f5-4f42-da3e-9a806bb1a85c"
      },
      "outputs": [
        {
          "name": "stdout",
          "output_type": "stream",
          "text": [
            "603042\n",
            "603042\n"
          ]
        },
        {
          "ename": "ValueError",
          "evalue": "Input 0 of layer \"lstm_32\" is incompatible with the layer: expected ndim=3, found ndim=4. Full shape received: (None, None, 603042, 20)",
          "output_type": "error",
          "traceback": [
            "\u001b[1;31m---------------------------------------------------------------------------\u001b[0m",
            "\u001b[1;31mValueError\u001b[0m                                Traceback (most recent call last)",
            "\u001b[1;32m~\\AppData\\Local\\Temp/ipykernel_8396/1746860109.py\u001b[0m in \u001b[0;36m<module>\u001b[1;34m\u001b[0m\n\u001b[0;32m      4\u001b[0m \u001b[0mprint\u001b[0m\u001b[1;33m(\u001b[0m\u001b[0minput_\u001b[0m\u001b[1;33m[\u001b[0m\u001b[1;36m0\u001b[0m\u001b[1;33m]\u001b[0m\u001b[1;33m)\u001b[0m\u001b[1;33m\u001b[0m\u001b[1;33m\u001b[0m\u001b[0m\n\u001b[0;32m      5\u001b[0m \u001b[1;33m\u001b[0m\u001b[0m\n\u001b[1;32m----> 6\u001b[1;33m \u001b[0mmodel\u001b[0m\u001b[1;33m.\u001b[0m\u001b[0madd\u001b[0m\u001b[1;33m(\u001b[0m\u001b[0mLSTM\u001b[0m\u001b[1;33m(\u001b[0m\u001b[1;36m1\u001b[0m\u001b[1;33m,\u001b[0m \u001b[0minput_shape\u001b[0m\u001b[1;33m=\u001b[0m\u001b[1;33m(\u001b[0m\u001b[1;32mNone\u001b[0m\u001b[1;33m,\u001b[0m\u001b[0minput_\u001b[0m\u001b[1;33m[\u001b[0m\u001b[1;36m0\u001b[0m\u001b[1;33m]\u001b[0m\u001b[1;33m,\u001b[0m\u001b[0minput_\u001b[0m\u001b[1;33m[\u001b[0m\u001b[1;36m1\u001b[0m\u001b[1;33m]\u001b[0m\u001b[1;33m)\u001b[0m\u001b[1;33m,\u001b[0m \u001b[0mreturn_sequences\u001b[0m\u001b[1;33m=\u001b[0m\u001b[1;32mFalse\u001b[0m\u001b[1;33m)\u001b[0m\u001b[1;33m)\u001b[0m\u001b[1;33m\u001b[0m\u001b[1;33m\u001b[0m\u001b[0m\n\u001b[0m\u001b[0;32m      7\u001b[0m \u001b[0mmodel\u001b[0m\u001b[1;33m.\u001b[0m\u001b[0mcompile\u001b[0m\u001b[1;33m(\u001b[0m \u001b[0mloss\u001b[0m\u001b[1;33m=\u001b[0m\u001b[1;34m\"mean_squared_error\"\u001b[0m\u001b[1;33m,\u001b[0m \u001b[0moptimizer\u001b[0m\u001b[1;33m=\u001b[0m\u001b[1;34m\"adam\"\u001b[0m\u001b[1;33m,\u001b[0m\u001b[0mmetrics\u001b[0m\u001b[1;33m=\u001b[0m\u001b[1;33m[\u001b[0m\u001b[1;34m\"mean_absolute_error\"\u001b[0m\u001b[1;33m]\u001b[0m\u001b[1;33m)\u001b[0m\u001b[1;33m\u001b[0m\u001b[1;33m\u001b[0m\u001b[0m\n\u001b[0;32m      8\u001b[0m model.fit(\n",
            "\u001b[1;32m~\\anaconda3\\lib\\site-packages\\tensorflow\\python\\trackable\\base.py\u001b[0m in \u001b[0;36m_method_wrapper\u001b[1;34m(self, *args, **kwargs)\u001b[0m\n\u001b[0;32m    203\u001b[0m     \u001b[0mself\u001b[0m\u001b[1;33m.\u001b[0m\u001b[0m_self_setattr_tracking\u001b[0m \u001b[1;33m=\u001b[0m \u001b[1;32mFalse\u001b[0m  \u001b[1;31m# pylint: disable=protected-access\u001b[0m\u001b[1;33m\u001b[0m\u001b[1;33m\u001b[0m\u001b[0m\n\u001b[0;32m    204\u001b[0m     \u001b[1;32mtry\u001b[0m\u001b[1;33m:\u001b[0m\u001b[1;33m\u001b[0m\u001b[1;33m\u001b[0m\u001b[0m\n\u001b[1;32m--> 205\u001b[1;33m       \u001b[0mresult\u001b[0m \u001b[1;33m=\u001b[0m \u001b[0mmethod\u001b[0m\u001b[1;33m(\u001b[0m\u001b[0mself\u001b[0m\u001b[1;33m,\u001b[0m \u001b[1;33m*\u001b[0m\u001b[0margs\u001b[0m\u001b[1;33m,\u001b[0m \u001b[1;33m**\u001b[0m\u001b[0mkwargs\u001b[0m\u001b[1;33m)\u001b[0m\u001b[1;33m\u001b[0m\u001b[1;33m\u001b[0m\u001b[0m\n\u001b[0m\u001b[0;32m    206\u001b[0m     \u001b[1;32mfinally\u001b[0m\u001b[1;33m:\u001b[0m\u001b[1;33m\u001b[0m\u001b[1;33m\u001b[0m\u001b[0m\n\u001b[0;32m    207\u001b[0m       \u001b[0mself\u001b[0m\u001b[1;33m.\u001b[0m\u001b[0m_self_setattr_tracking\u001b[0m \u001b[1;33m=\u001b[0m \u001b[0mprevious_value\u001b[0m  \u001b[1;31m# pylint: disable=protected-access\u001b[0m\u001b[1;33m\u001b[0m\u001b[1;33m\u001b[0m\u001b[0m\n",
            "\u001b[1;32m~\\anaconda3\\lib\\site-packages\\keras\\utils\\traceback_utils.py\u001b[0m in \u001b[0;36merror_handler\u001b[1;34m(*args, **kwargs)\u001b[0m\n\u001b[0;32m     68\u001b[0m             \u001b[1;31m# To get the full stack trace, call:\u001b[0m\u001b[1;33m\u001b[0m\u001b[1;33m\u001b[0m\u001b[0m\n\u001b[0;32m     69\u001b[0m             \u001b[1;31m# `tf.debugging.disable_traceback_filtering()`\u001b[0m\u001b[1;33m\u001b[0m\u001b[1;33m\u001b[0m\u001b[0m\n\u001b[1;32m---> 70\u001b[1;33m             \u001b[1;32mraise\u001b[0m \u001b[0me\u001b[0m\u001b[1;33m.\u001b[0m\u001b[0mwith_traceback\u001b[0m\u001b[1;33m(\u001b[0m\u001b[0mfiltered_tb\u001b[0m\u001b[1;33m)\u001b[0m \u001b[1;32mfrom\u001b[0m \u001b[1;32mNone\u001b[0m\u001b[1;33m\u001b[0m\u001b[1;33m\u001b[0m\u001b[0m\n\u001b[0m\u001b[0;32m     71\u001b[0m         \u001b[1;32mfinally\u001b[0m\u001b[1;33m:\u001b[0m\u001b[1;33m\u001b[0m\u001b[1;33m\u001b[0m\u001b[0m\n\u001b[0;32m     72\u001b[0m             \u001b[1;32mdel\u001b[0m \u001b[0mfiltered_tb\u001b[0m\u001b[1;33m\u001b[0m\u001b[1;33m\u001b[0m\u001b[0m\n",
            "\u001b[1;32m~\\anaconda3\\lib\\site-packages\\keras\\engine\\input_spec.py\u001b[0m in \u001b[0;36massert_input_compatibility\u001b[1;34m(input_spec, inputs, layer_name)\u001b[0m\n\u001b[0;32m    230\u001b[0m             \u001b[0mndim\u001b[0m \u001b[1;33m=\u001b[0m \u001b[0mshape\u001b[0m\u001b[1;33m.\u001b[0m\u001b[0mrank\u001b[0m\u001b[1;33m\u001b[0m\u001b[1;33m\u001b[0m\u001b[0m\n\u001b[0;32m    231\u001b[0m             \u001b[1;32mif\u001b[0m \u001b[0mndim\u001b[0m \u001b[1;33m!=\u001b[0m \u001b[0mspec\u001b[0m\u001b[1;33m.\u001b[0m\u001b[0mndim\u001b[0m\u001b[1;33m:\u001b[0m\u001b[1;33m\u001b[0m\u001b[1;33m\u001b[0m\u001b[0m\n\u001b[1;32m--> 232\u001b[1;33m                 raise ValueError(\n\u001b[0m\u001b[0;32m    233\u001b[0m                     \u001b[1;34mf'Input {input_index} of layer \"{layer_name}\" '\u001b[0m\u001b[1;33m\u001b[0m\u001b[1;33m\u001b[0m\u001b[0m\n\u001b[0;32m    234\u001b[0m                     \u001b[1;34m\"is incompatible with the layer: \"\u001b[0m\u001b[1;33m\u001b[0m\u001b[1;33m\u001b[0m\u001b[0m\n",
            "\u001b[1;31mValueError\u001b[0m: Input 0 of layer \"lstm_32\" is incompatible with the layer: expected ndim=3, found ndim=4. Full shape received: (None, None, 603042, 20)"
          ]
        }
      ],
      "source": [
        "model = keras.Sequential()\n",
        "print(X_train.shape[0])\n",
        "input_ = X_train.shape # shape from train_data\n",
        "print(input_[0])\n",
        "\n",
        "model.add(LSTM(1, input_shape=(None,input_[0],input_[1]), return_sequences=False))\n",
        "model.compile( loss=\"mean_squared_error\", optimizer=\"adam\",metrics=[\"mean_absolute_error\"])\n",
        "model.fit(\n",
        "    X_train, y_train, validation_data=(X_test, y_test), epochs=10,callbacks=[history]\n",
        ")\n",
        "# model.add(Dense(200,activation=\"relu\"))\n",
        "# model.add(Dense(200,activation=\"relu\"))\n",
        "# model.add(Dense(200,activation=\"relu\"))\n",
        "# model.add(Dense(200,activation=\"relu\"))\n",
        "# model.add(Dense(1,activation=\"linear\"))\n",
        "# model.add(Dense(512, activation='relu'))\n",
        "# model.add(Dense(512, activation='relu'))\n",
        "# model.add(Dense(512, activation='relu'))\n",
        "# model.add(Dense(512, activation='relu'))\n",
        "# model.add(Dense(512, activation='relu'))\n",
        "# model.add(Dense(512, activation='relu'))\n",
        "# model.add(Dense(1, activation = 'softmax'))\n",
        "# model.add(layers.BatchNormalization())\n",
        "# model.add(layers.Dense(10))\n",
        "# model.add(Dropout(0.2))\n",
        "# print(model.summary())"
      ],
      "id": "U4G69MUsDY6N"
    },
    {
      "cell_type": "code",
      "execution_count": null,
      "id": "d297c840",
      "metadata": {
        "id": "d297c840"
      },
      "outputs": [],
      "source": [
        "from tensorflow.python.ops.init_ops import RandomNormal\n",
        "from tensorflow import keras\n",
        "from keras.models import Sequential\n",
        "from keras import layers\n",
        "from keras.layers import SimpleRNN, Flatten, LSTM, Dropout, Dense\n",
        "from keras.optimizers import SGD, Adam, RMSprop\n",
        "\n",
        "from keras.layers import LeakyReLU\n",
        "\n",
        "from keras.callbacks import ModelCheckpoint\n",
        "from keras.callbacks import EarlyStopping\n",
        "\n",
        "\n",
        "\n",
        "def create_model():\n",
        "    '''\n",
        "    Create a neural network\n",
        "    '''\n",
        "    initializer = RandomNormal(mean=0.0, stddev=0.05, seed=None)\n",
        "\n",
        "    model = Sequential()\n",
        "    model.add(Dense(512, input_dim=X_train.shape[1], activation=\"relu\", kernel_initializer=initializer))\n",
        "    model.add(Dropout(0.4))\n",
        "    model.add(Dense(512, input_dim=X_train.shape[1], activation=\"relu\", kernel_initializer=initializer))\n",
        "    model.add(Dropout(0.4))\n",
        "    model.add(Dense(512, input_dim=X_train.shape[1], activation=\"relu\", kernel_initializer=initializer))\n",
        "    model.add(Dropout(0.4))\n",
        "    model.add(Dense(1, activation=\"linear\", kernel_initializer=initializer))\n",
        "    adam = Adam(lr=1e-3, decay=1e-3)\n",
        "\n",
        "    # Compile model\n",
        "    model.compile(loss=\"mean_squared_error\", optimizer=adam, metrics=[rmse, rmspe])\n",
        "\n",
        "    return model"
      ]
    },
    {
      "cell_type": "code",
      "execution_count": null,
      "metadata": {
        "id": "MVScjoyrDY6O"
      },
      "outputs": [],
      "source": [],
      "id": "MVScjoyrDY6O"
    }
  ],
  "metadata": {
    "kernelspec": {
      "display_name": "Python 3.9.13 ('base')",
      "language": "python",
      "name": "python3"
    },
    "language_info": {
      "codemirror_mode": {
        "name": "ipython",
        "version": 3
      },
      "file_extension": ".py",
      "mimetype": "text/x-python",
      "name": "python",
      "nbconvert_exporter": "python",
      "pygments_lexer": "ipython3",
      "version": "3.9.13"
    },
    "vscode": {
      "interpreter": {
        "hash": "ad2bdc8ecc057115af97d19610ffacc2b4e99fae6737bb82f5d7fb13d2f2c186"
      }
    },
    "colab": {
      "provenance": [],
      "include_colab_link": true
    }
  },
  "nbformat": 4,
  "nbformat_minor": 5
}